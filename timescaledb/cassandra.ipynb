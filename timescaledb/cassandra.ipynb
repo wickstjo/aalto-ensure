{
 "cells": [
  {
   "cell_type": "code",
   "execution_count": 323,
   "id": "8e59fb39-470b-4cfa-8681-e72406f3f401",
   "metadata": {},
   "outputs": [],
   "source": [
    "from cassandra.cluster import Cluster\n",
    "import time, requests, json, math\n",
    "from datetime import datetime\n",
    "import hashlib"
   ]
  },
  {
   "cell_type": "code",
   "execution_count": 275,
   "id": "7833ada0-bc22-4f3f-9996-55e169ebb806",
   "metadata": {},
   "outputs": [],
   "source": [
    "def get_names(port, exclude):\n",
    "    try:\n",
    "        result = requests.get(f'http://130.233.193.117:{port}/api/v1/label/__name__/values')\n",
    "        container = []\n",
    "\n",
    "        for metric in result.json()['data']:\n",
    "            if not exclude(metric):\n",
    "                container.append(metric)\n",
    "\n",
    "        return container\n",
    "\n",
    "    except:\n",
    "        raise(f'COULD NOT PING INSTANCES AT PORT {port}')\n",
    "        return False"
   ]
  },
  {
   "cell_type": "code",
   "execution_count": 276,
   "id": "6866217f-6c00-4773-b9ef-67ce1685db96",
   "metadata": {},
   "outputs": [],
   "source": [
    "def create_segments(unix_start, unix_end, batch_size):\n",
    "\n",
    "    container = []\n",
    "    time_delta = unix_end - unix_start\n",
    "\n",
    "    for _ in range(math.floor(time_delta / batch_size)):\n",
    "        container.append(batch_size)\n",
    "        time_delta -= batch_size\n",
    "\n",
    "    if time_delta > 0:\n",
    "        container.append(time_delta)\n",
    "\n",
    "    last_start = unix_start\n",
    "    tuples = []\n",
    "\n",
    "    for window in container:\n",
    "        tuples.append((last_start, last_start+window))\n",
    "        last_start += window\n",
    "\n",
    "    return tuples"
   ]
  },
  {
   "cell_type": "code",
   "execution_count": 333,
   "id": "d54a0af5-3121-46fa-bb4d-0762e9f5e940",
   "metadata": {},
   "outputs": [],
   "source": [
    "def hash_dict(data_dict):\n",
    "    json_str = json.dumps(data_dict, sort_keys=True)\n",
    "    return hashlib.sha256(json_str.encode()).hexdigest()"
   ]
  },
  {
   "cell_type": "code",
   "execution_count": 277,
   "id": "25a8c894-1004-47ed-ac69-4f9a8e3c0715",
   "metadata": {},
   "outputs": [],
   "source": [
    "class cass_instance:\n",
    "    \n",
    "    # CONSTRUCTOR\n",
    "    def __init__(self):\n",
    "        cluster = Cluster([('localhost', 12001)])\n",
    "        self.session = cluster.connect()\n",
    "\n",
    "    # DESTRUCTOR\n",
    "    def __del__(self):\n",
    "        self.session.shutdown()\n",
    "\n",
    "    # PERFORM ONE OF MORE CASSANDRA QUERIES\n",
    "    def query(self, inputs):\n",
    "        results = []\n",
    "\n",
    "        # SINGLE QUERY\n",
    "        if type(inputs) == str:\n",
    "            res = self.session.execute(inputs)\n",
    "            results.append(res)\n",
    "\n",
    "        # MULTIPLE QUERIES\n",
    "        elif type(inputs) == list:\n",
    "            for input in inputs:\n",
    "                res = self.session.execute(input)\n",
    "                results.append(res)\n",
    "\n",
    "        # CATCH BAD INPUT\n",
    "        else:\n",
    "            print('ERROR: BAD INPUT PARAM')\n",
    "\n",
    "\n",
    "    # CREATE AND ENTER NEW KEYSPACE\n",
    "    def namespace(self, namespace_name):\n",
    "        self.query(\"CREATE KEYSPACE %s WITH replication = {'class': 'SimpleStrategy', 'replication_factor': 1};\" % namespace_name)\n",
    "        self.session.set_keyspace(namespace_name)"
   ]
  },
  {
   "cell_type": "code",
   "execution_count": 340,
   "id": "286e614a-28a9-491d-883e-4bbbe1fcef81",
   "metadata": {},
   "outputs": [],
   "source": [
    "def create_snapshot(start_time, end_time, sampling):\n",
    "\n",
    "    # GENERATE EXPERIMENT ID\n",
    "    exp_id = 'experiment_' + str(int(time.time()))\n",
    "    print(exp_id)\n",
    "\n",
    "    # CREATE CASSANDRA INSTANCE, THEN CREATE THE NEW NAMESPACE\n",
    "    cass = cass_instance()\n",
    "    cass.namespace(exp_id)\n",
    "\n",
    "    # CONVERT DATES TO VALID UNIX TIMESTAMPS\n",
    "    date_format = '%Y-%m-%d %H:%M:%S'\n",
    "    formatted_start = int(datetime.strptime(start_time, date_format).timestamp())\n",
    "    formatted_end = int(datetime.strptime(end_time, date_format).timestamp())\n",
    "\n",
    "    # PROMETHEUS ONLY ALLOWS QUERIES WITH LESS THAN 11K ROWS\n",
    "    # SEGMENT LARGE TIMESTAMPS INTO SMALLER PAIRS TO BYPASS THIS LIMITATION\n",
    "    segments = create_segments(formatted_start, formatted_end, 1000)\n",
    "\n",
    "    # PROMETHEUS SERVER 1\n",
    "    #s1_filter = lambda x: x.startswith('prometheus_') or x.startswith('grafana_') or x.startswith('alertmanager_') or x.startswith('kepler_process') or x.startswith('apiserver_request_duration') or x.startswith('apiserver_request_sli')\n",
    "    s1_filter = lambda x: not x.startswith('kepler_')\n",
    "    s1_metrics = get_names(9090, s1_filter)\n",
    "\n",
    "    # PROMETHEUS SERVER 2\n",
    "    s2_filter = lambda x: not x.startswith('kafka_')\n",
    "    s2_metrics = get_names(9091, s2_filter)\n",
    "\n",
    "    for metric in s1_metrics:\n",
    "        for nth_segment, (t1, t2) in enumerate(segments):\n",
    "\n",
    "            # MAKE THE API REQUEST\n",
    "            URL = f'http://130.233.193.117:9090/api/v1/query_range?query={metric}&start={t1}&end={t2}&step={sampling}s'\n",
    "            results = requests.get(URL).json()['data']['result']\n",
    "\n",
    "            # ON THE FIRST SEGMENT, CREATE THE TABLE\n",
    "            if nth_segment == 0:\n",
    "        \n",
    "                # EXTRACT KEYS & STRINGIFY THEM\n",
    "                keys = list(results[0]['metric'].keys())\n",
    "                keys = [key.replace('__name__', 'metric_name').replace(\" \", \"_\").replace(\"-\", \"_\").replace(\".\", \"_\").lower() for key in keys]\n",
    "                stringified_keys = ' text, '.join(keys) + ' text'\n",
    "        \n",
    "                # CREATE THE TABLE\n",
    "                tbl_query = 'CREATE TABLE ' + metric + ' (metric_hash text PRIMARY KEY, ' + stringified_keys + ');'\n",
    "                cass.query(tbl_query)\n",
    "\n",
    "            # LOOP IN THE VALUES\n",
    "            for item in results:\n",
    "                keys = list(item['metric'].keys())\n",
    "                keys = [key.replace('__name__', 'metric_name').replace(\" \", \"_\").replace(\"-\", \"_\").replace(\".\", \"_\").lower() for key in keys]\n",
    "                joined_keys = ', '.join(keys)\n",
    "                \n",
    "                values = [hash_dict(dict(item['metric']))] + list(item['metric'].values())\n",
    "                joined_values = ', '.join(values)\n",
    "        \n",
    "                row_query = insert_query = f\"INSERT INTO {metric} ({joined_keys}) VALUES ({joined_values});\"\n",
    "                cass.query(row_query)\n",
    "\n",
    "        print(metric)\n",
    "\n",
    "            #tbl_query = 'CREATE TABLE ' + metric + ' (metric_name text PRIMARY KEY, another text);'\n",
    "            #cass.query(tbl_query)\n",
    "    \n",
    "#    # LOOP THROUGH EACH SEGMENT, COMBINING THEIR QUERY OUTPUT\n",
    "#    for nth_segment, (t1, t2) in segments:\n",
    "#\n",
    "#        # MAKE GET REQUEST\n",
    "#        URL = f'http://130.233.193.117:{prometheus_port}/api/v1/query_range?query={query}&start={t1}&end={t2}&step={n_steps}s'\n",
    "#        results = requests.get(URL).json()['data']['result']"
   ]
  },
  {
   "cell_type": "code",
   "execution_count": 341,
   "id": "1667174a-5f61-42f3-a6e4-bc70fdef6ba3",
   "metadata": {},
   "outputs": [],
   "source": [
    "#clear && python3 snapshot.py --start \"2024-01-17 23:46:25\" --end \"2024-01-18 07:46:25\" --interval 5"
   ]
  },
  {
   "cell_type": "code",
   "execution_count": 342,
   "id": "aad6e64d-73e5-4c36-9aaa-5ec2d4ce167e",
   "metadata": {},
   "outputs": [
    {
     "name": "stdout",
     "output_type": "stream",
     "text": [
      "experiment_1705595728\n"
     ]
    },
    {
     "ename": "SyntaxException",
     "evalue": "<Error from server: code=2000 [Syntax error in CQL query] message=\"line 1:209 mismatched character '1' expecting '-'\">",
     "output_type": "error",
     "traceback": [
      "\u001b[0;31m---------------------------------------------------------------------------\u001b[0m",
      "\u001b[0;31mSyntaxException\u001b[0m                           Traceback (most recent call last)",
      "Cell \u001b[0;32mIn[342], line 1\u001b[0m\n\u001b[0;32m----> 1\u001b[0m \u001b[43mcreate_snapshot\u001b[49m\u001b[43m(\u001b[49m\n\u001b[1;32m      2\u001b[0m \u001b[43m    \u001b[49m\u001b[43mstart_time\u001b[49m\u001b[38;5;241;43m=\u001b[39;49m\u001b[38;5;124;43m\"\u001b[39;49m\u001b[38;5;124;43m2024-01-17 23:46:25\u001b[39;49m\u001b[38;5;124;43m\"\u001b[39;49m\u001b[43m,\u001b[49m\n\u001b[1;32m      3\u001b[0m \u001b[43m    \u001b[49m\u001b[43mend_time\u001b[49m\u001b[38;5;241;43m=\u001b[39;49m\u001b[38;5;124;43m\"\u001b[39;49m\u001b[38;5;124;43m2024-01-18 07:46:25\u001b[39;49m\u001b[38;5;124;43m\"\u001b[39;49m\u001b[43m,\u001b[49m\n\u001b[1;32m      4\u001b[0m \u001b[43m    \u001b[49m\u001b[43msampling\u001b[49m\u001b[38;5;241;43m=\u001b[39;49m\u001b[38;5;241;43m5\u001b[39;49m\n\u001b[1;32m      5\u001b[0m \u001b[43m)\u001b[49m\n",
      "Cell \u001b[0;32mIn[340], line 58\u001b[0m, in \u001b[0;36mcreate_snapshot\u001b[0;34m(start_time, end_time, sampling)\u001b[0m\n\u001b[1;32m     55\u001b[0m         joined_values \u001b[38;5;241m=\u001b[39m \u001b[38;5;124m'\u001b[39m\u001b[38;5;124m, \u001b[39m\u001b[38;5;124m'\u001b[39m\u001b[38;5;241m.\u001b[39mjoin(values)\n\u001b[1;32m     57\u001b[0m         row_query \u001b[38;5;241m=\u001b[39m insert_query \u001b[38;5;241m=\u001b[39m \u001b[38;5;124mf\u001b[39m\u001b[38;5;124m\"\u001b[39m\u001b[38;5;124mINSERT INTO \u001b[39m\u001b[38;5;132;01m{\u001b[39;00mmetric\u001b[38;5;132;01m}\u001b[39;00m\u001b[38;5;124m (\u001b[39m\u001b[38;5;132;01m{\u001b[39;00mjoined_keys\u001b[38;5;132;01m}\u001b[39;00m\u001b[38;5;124m) VALUES (\u001b[39m\u001b[38;5;132;01m{\u001b[39;00mjoined_values\u001b[38;5;132;01m}\u001b[39;00m\u001b[38;5;124m);\u001b[39m\u001b[38;5;124m\"\u001b[39m\n\u001b[0;32m---> 58\u001b[0m         \u001b[43mcass\u001b[49m\u001b[38;5;241;43m.\u001b[39;49m\u001b[43mquery\u001b[49m\u001b[43m(\u001b[49m\u001b[43mrow_query\u001b[49m\u001b[43m)\u001b[49m\n\u001b[1;32m     60\u001b[0m \u001b[38;5;28mprint\u001b[39m(metric)\n",
      "Cell \u001b[0;32mIn[277], line 18\u001b[0m, in \u001b[0;36mcass_instance.query\u001b[0;34m(self, inputs)\u001b[0m\n\u001b[1;32m     16\u001b[0m \u001b[38;5;66;03m# SINGLE QUERY\u001b[39;00m\n\u001b[1;32m     17\u001b[0m \u001b[38;5;28;01mif\u001b[39;00m \u001b[38;5;28mtype\u001b[39m(inputs) \u001b[38;5;241m==\u001b[39m \u001b[38;5;28mstr\u001b[39m:\n\u001b[0;32m---> 18\u001b[0m     res \u001b[38;5;241m=\u001b[39m \u001b[38;5;28;43mself\u001b[39;49m\u001b[38;5;241;43m.\u001b[39;49m\u001b[43msession\u001b[49m\u001b[38;5;241;43m.\u001b[39;49m\u001b[43mexecute\u001b[49m\u001b[43m(\u001b[49m\u001b[43minputs\u001b[49m\u001b[43m)\u001b[49m\n\u001b[1;32m     19\u001b[0m     results\u001b[38;5;241m.\u001b[39mappend(res)\n\u001b[1;32m     21\u001b[0m \u001b[38;5;66;03m# MULTIPLE QUERIES\u001b[39;00m\n",
      "File \u001b[0;32m~/.local/lib/python3.10/site-packages/cassandra/cluster.py:2677\u001b[0m, in \u001b[0;36mcassandra.cluster.Session.execute\u001b[0;34m()\u001b[0m\n",
      "File \u001b[0;32m~/.local/lib/python3.10/site-packages/cassandra/cluster.py:4956\u001b[0m, in \u001b[0;36mcassandra.cluster.ResponseFuture.result\u001b[0;34m()\u001b[0m\n",
      "\u001b[0;31mSyntaxException\u001b[0m: <Error from server: code=2000 [Syntax error in CQL query] message=\"line 1:209 mismatched character '1' expecting '-'\">"
     ]
    }
   ],
   "source": [
    "create_snapshot(\n",
    "    start_time=\"2024-01-17 23:46:25\",\n",
    "    end_time=\"2024-01-18 07:46:25\",\n",
    "    sampling=5\n",
    ")"
   ]
  },
  {
   "cell_type": "code",
   "execution_count": null,
   "id": "192b4828-2ed3-498b-a628-29ef3ccba2a7",
   "metadata": {},
   "outputs": [],
   "source": []
  },
  {
   "cell_type": "code",
   "execution_count": null,
   "id": "4b8804cc-35ad-4aa8-aab5-d7cbc6011a7e",
   "metadata": {},
   "outputs": [],
   "source": []
  },
  {
   "cell_type": "code",
   "execution_count": 304,
   "id": "60a375f1-faf8-4902-8044-7502f60b664f",
   "metadata": {},
   "outputs": [],
   "source": [
    "cass = cass_instance()\n",
    "cass.session.set_keyspace('experiment_1705593815')"
   ]
  },
  {
   "cell_type": "code",
   "execution_count": 308,
   "id": "893e3b76-107d-4985-8e93-79dce26449ff",
   "metadata": {},
   "outputs": [],
   "source": [
    "res = cass.session.execute(\"SELECT * FROM kepler_container_joules_total\")"
   ]
  },
  {
   "cell_type": "code",
   "execution_count": null,
   "id": "a2324b3d-1ef0-4603-927d-e8cfe4714a14",
   "metadata": {},
   "outputs": [],
   "source": []
  },
  {
   "cell_type": "code",
   "execution_count": null,
   "id": "6798520e-01c4-4872-88af-e4c1a734694d",
   "metadata": {},
   "outputs": [],
   "source": []
  },
  {
   "cell_type": "code",
   "execution_count": null,
   "id": "29e69a6b-b989-4798-b12d-d682fbc4357d",
   "metadata": {},
   "outputs": [],
   "source": []
  },
  {
   "cell_type": "code",
   "execution_count": 185,
   "id": "e04bc0ca-3efe-4ab7-a6be-b58bcaa6b6aa",
   "metadata": {},
   "outputs": [],
   "source": [
    "keys = ['container', 'container_id', 'container_name', 'container_namespace', 'endpoint', 'instance', 'job', 'namespace', 'pod', 'pod_name', 'service', 'source']"
   ]
  },
  {
   "cell_type": "code",
   "execution_count": 187,
   "id": "2a1e54d1-3868-4a4f-8d05-350eda2df701",
   "metadata": {},
   "outputs": [],
   "source": [
    "stringified_keys = ' string, '.join(keys) + ' string'\n",
    "tbl_query = 'CREATE TABLE IF NOT EXISTS your_table (__name__ string PRIMARY KEY, ' + stringified_keys + ')';"
   ]
  },
  {
   "cell_type": "code",
   "execution_count": 188,
   "id": "7af77c2a-37cd-4861-b599-bedd594fd247",
   "metadata": {},
   "outputs": [
    {
     "data": {
      "text/plain": [
       "'CREATE TABLE IF NOT EXISTS your_table (__name__ string PRIMARY KEY, container string, container_id string, container_name string, container_namespace string, endpoint string, instance string, job string, namespace string, pod string, pod_name string, service string, source string)'"
      ]
     },
     "execution_count": 188,
     "metadata": {},
     "output_type": "execute_result"
    }
   ],
   "source": [
    "tbl_query"
   ]
  },
  {
   "cell_type": "code",
   "execution_count": 184,
   "id": "8af12af3-f445-483f-8cbc-fb9aae0a8d87",
   "metadata": {},
   "outputs": [
    {
     "data": {
      "text/plain": [
       "'container string, container_id string, container_name string, container_namespace string, endpoint string, instance string, job string, namespace string, pod string, pod_name string, service string, source string'"
      ]
     },
     "execution_count": 184,
     "metadata": {},
     "output_type": "execute_result"
    }
   ],
   "source": [
    "' string, '.join(keys) + ' string'"
   ]
  },
  {
   "cell_type": "code",
   "execution_count": null,
   "id": "32c5bad1-9350-40e1-8345-9c2369466e21",
   "metadata": {},
   "outputs": [],
   "source": []
  },
  {
   "cell_type": "code",
   "execution_count": null,
   "id": "efff70ff-8de7-4c8c-beb8-931dddbee16f",
   "metadata": {},
   "outputs": [],
   "source": []
  },
  {
   "cell_type": "code",
   "execution_count": null,
   "id": "affc33eb-8fa3-4e87-a8df-c6462ce5efa6",
   "metadata": {},
   "outputs": [],
   "source": []
  },
  {
   "cell_type": "code",
   "execution_count": null,
   "id": "c7bfe356-a8e1-4d48-a1cf-fc29c018b01b",
   "metadata": {},
   "outputs": [],
   "source": [
    "\"\"\"\n",
    "CREATE TABLE IF NOT EXISTS your_table (\n",
    "    id UUID PRIMARY KEY,\n",
    "    json_data map<text, text>\n",
    ");\n",
    "\"\"\""
   ]
  },
  {
   "cell_type": "code",
   "execution_count": null,
   "id": "473dbc86-175c-43b9-a890-8ced790691ef",
   "metadata": {},
   "outputs": [],
   "source": []
  },
  {
   "cell_type": "code",
   "execution_count": null,
   "id": "26070d71-6509-46f4-b1c7-59ea3cc59c0f",
   "metadata": {},
   "outputs": [],
   "source": []
  },
  {
   "cell_type": "code",
   "execution_count": null,
   "id": "e87deffe-e00a-4719-b602-6fc6179095b0",
   "metadata": {},
   "outputs": [],
   "source": []
  },
  {
   "cell_type": "code",
   "execution_count": null,
   "id": "c1032f85-dec1-4236-8685-57018e352ee1",
   "metadata": {},
   "outputs": [],
   "source": []
  },
  {
   "cell_type": "code",
   "execution_count": null,
   "id": "e860df2d-672c-46a5-921e-6714b51b334b",
   "metadata": {},
   "outputs": [],
   "source": []
  },
  {
   "cell_type": "code",
   "execution_count": null,
   "id": "98a877ee-4b4f-42ef-9cb3-7783d4efbfa2",
   "metadata": {},
   "outputs": [],
   "source": []
  },
  {
   "cell_type": "code",
   "execution_count": null,
   "id": "896c9bea-8b83-49c8-b37e-7a98fc4693c1",
   "metadata": {},
   "outputs": [],
   "source": []
  },
  {
   "cell_type": "code",
   "execution_count": null,
   "id": "6237100a-9198-4107-9177-f8b8ee49ad56",
   "metadata": {},
   "outputs": [],
   "source": []
  },
  {
   "cell_type": "code",
   "execution_count": 86,
   "id": "f6f13718-9d77-4036-9a72-7313b4111ae4",
   "metadata": {},
   "outputs": [],
   "source": [
    "cass_instance().init_namespace('foobarz')"
   ]
  },
  {
   "cell_type": "code",
   "execution_count": null,
   "id": "210475d7-88c1-4c27-ae2d-bd2e250824dc",
   "metadata": {},
   "outputs": [],
   "source": []
  },
  {
   "cell_type": "code",
   "execution_count": null,
   "id": "acda0620-f390-4cfc-af98-1d907773546e",
   "metadata": {},
   "outputs": [],
   "source": []
  },
  {
   "cell_type": "code",
   "execution_count": 65,
   "id": "f66d8141-4f20-4adb-9e24-0afdbccfb604",
   "metadata": {},
   "outputs": [],
   "source": [
    "def cass_query():\n",
    "    cluster = Cluster([('localhost', 12001)]).connect()\n",
    "    session = cluster.connect()\n",
    "\n",
    "    return session"
   ]
  },
  {
   "cell_type": "code",
   "execution_count": null,
   "id": "01a6605e-39e1-4205-873e-be53e0af8d3a",
   "metadata": {},
   "outputs": [],
   "source": []
  },
  {
   "cell_type": "code",
   "execution_count": 70,
   "id": "4505e8fe-6b07-426f-86bd-ae6dda76b95e",
   "metadata": {},
   "outputs": [],
   "source": [
    "cluster = Cluster([('localhost', 12001)])\n",
    "session = cluster.connect()"
   ]
  },
  {
   "cell_type": "code",
   "execution_count": 73,
   "id": "1145d2c4-99c6-416c-b737-74d8a6dd9bb4",
   "metadata": {},
   "outputs": [],
   "source": [
    "session.shutdown()"
   ]
  },
  {
   "cell_type": "code",
   "execution_count": 74,
   "id": "e1268a45-a7c6-4cfd-919c-41ecdd404145",
   "metadata": {},
   "outputs": [
    {
     "data": {
      "text/plain": [
       "<cassandra.cluster.Session at 0x7fb36831f8b0>"
      ]
     },
     "execution_count": 74,
     "metadata": {},
     "output_type": "execute_result"
    }
   ],
   "source": [
    "session.execute()"
   ]
  },
  {
   "cell_type": "code",
   "execution_count": 72,
   "id": "40264d0e-b13b-44cc-b63f-a235f44fc1ca",
   "metadata": {},
   "outputs": [
    {
     "name": "stdout",
     "output_type": "stream",
     "text": [
      "['__class__', '__del__', '__delattr__', '__dict__', '__dir__', '__doc__', '__enter__', '__eq__', '__exit__', '__format__', '__ge__', '__getattribute__', '__gt__', '__hash__', '__init__', '__init_subclass__', '__le__', '__lt__', '__module__', '__ne__', '__new__', '__reduce__', '__reduce_ex__', '__repr__', '__setattr__', '__sizeof__', '__str__', '__subclasshook__', '__weakref__', '_check_graph_paging_available', '_create_response_future', '_default_consistency_level', '_default_serial_consistency_level', '_default_timeout', '_graph_paging_available', '_initial_connect_futures', '_lock', '_maybe_get_execution_profile', '_maybe_set_graph_paging', '_metrics', '_monitor_reporter', '_on_analytics_master_result', '_on_request', '_pools', '_profile_manager', '_protocol_version', '_request_init_callbacks', '_resolve_execution_profile_options', '_row_factory', '_set_keyspace_for_all_pools', '_target_analytics_master', '_transform_params', '_validate_set_legacy_config', 'add_or_renew_pool', 'add_request_init_listener', 'client_protocol_handler', 'cluster', 'default_consistency_level', 'default_fetch_size', 'default_serial_consistency_level', 'default_timeout', 'encoder', 'execute', 'execute_async', 'execute_graph', 'execute_graph_async', 'execution_profile_clone_update', 'get_execution_profile', 'get_pool_state', 'get_pools', 'hosts', 'is_shutdown', 'keyspace', 'max_trace_wait', 'on_down', 'on_remove', 'prepare', 'prepare_on_all_hosts', 'remove_pool', 'remove_request_init_listener', 'row_factory', 'session_id', 'set_keyspace', 'shutdown', 'submit', 'timestamp_generator', 'update_created_pools', 'use_client_timestamp', 'user_type_registered']\n"
     ]
    }
   ],
   "source": [
    "print(dir(session))"
   ]
  },
  {
   "cell_type": "code",
   "execution_count": null,
   "id": "986f3a1e-b4be-46f0-9d69-ae00d818e85a",
   "metadata": {},
   "outputs": [],
   "source": []
  },
  {
   "cell_type": "code",
   "execution_count": 71,
   "id": "36722782-751f-4c7b-814a-741c2f2bd622",
   "metadata": {},
   "outputs": [
    {
     "ename": "AttributeError",
     "evalue": "'Session' object has no attribute 'close'",
     "output_type": "error",
     "traceback": [
      "\u001b[0;31m---------------------------------------------------------------------------\u001b[0m",
      "\u001b[0;31mAttributeError\u001b[0m                            Traceback (most recent call last)",
      "Cell \u001b[0;32mIn[71], line 1\u001b[0m\n\u001b[0;32m----> 1\u001b[0m \u001b[43msession\u001b[49m\u001b[38;5;241;43m.\u001b[39;49m\u001b[43mclose\u001b[49m()\n",
      "\u001b[0;31mAttributeError\u001b[0m: 'Session' object has no attribute 'close'"
     ]
    }
   ],
   "source": [
    "session.close()"
   ]
  },
  {
   "cell_type": "code",
   "execution_count": 61,
   "id": "38737482-c7e5-4f2f-8c40-b7e1a38a4ecd",
   "metadata": {},
   "outputs": [],
   "source": [
    "keyspace_query = \"CREATE KEYSPACE exp_12345 WITH replication = {'class': 'SimpleStrategy', 'replication_factor': 1};\"\n",
    "session.execute(keyspace_query)\n",
    "session.set_keyspace('exp_12345')"
   ]
  },
  {
   "cell_type": "code",
   "execution_count": 62,
   "id": "e2ae32ec-e0f9-4726-b11f-9b727d0f8367",
   "metadata": {},
   "outputs": [
    {
     "ename": "AlreadyExists",
     "evalue": "Keyspace 'exp_12345' already exists",
     "output_type": "error",
     "traceback": [
      "\u001b[0;31m---------------------------------------------------------------------------\u001b[0m",
      "\u001b[0;31mAlreadyExists\u001b[0m                             Traceback (most recent call last)",
      "Cell \u001b[0;32mIn[62], line 1\u001b[0m\n\u001b[0;32m----> 1\u001b[0m \u001b[43msession\u001b[49m\u001b[38;5;241;43m.\u001b[39;49m\u001b[43mexecute\u001b[49m\u001b[43m(\u001b[49m\u001b[43mkeyspace_query\u001b[49m\u001b[43m)\u001b[49m\n",
      "File \u001b[0;32m~/.local/lib/python3.10/site-packages/cassandra/cluster.py:2677\u001b[0m, in \u001b[0;36mcassandra.cluster.Session.execute\u001b[0;34m()\u001b[0m\n",
      "File \u001b[0;32m~/.local/lib/python3.10/site-packages/cassandra/cluster.py:4956\u001b[0m, in \u001b[0;36mcassandra.cluster.ResponseFuture.result\u001b[0;34m()\u001b[0m\n",
      "\u001b[0;31mAlreadyExists\u001b[0m: Keyspace 'exp_12345' already exists"
     ]
    }
   ],
   "source": [
    "session.execute(keyspace_query)"
   ]
  },
  {
   "cell_type": "code",
   "execution_count": 75,
   "id": "201e1b8e-be77-4ee8-b090-de2a92abab85",
   "metadata": {},
   "outputs": [
    {
     "ename": "NoHostAvailable",
     "evalue": "('Unable to complete the operation against any hosts', {<Host: 127.0.0.1:12001 DATACENTER1>: ConnectionException('Pool is shutdown')})",
     "output_type": "error",
     "traceback": [
      "\u001b[0;31m---------------------------------------------------------------------------\u001b[0m",
      "\u001b[0;31mNoHostAvailable\u001b[0m                           Traceback (most recent call last)",
      "Cell \u001b[0;32mIn[75], line 1\u001b[0m\n\u001b[0;32m----> 1\u001b[0m \u001b[43msession\u001b[49m\u001b[38;5;241;43m.\u001b[39;49m\u001b[43mset_keyspace\u001b[49m\u001b[43m(\u001b[49m\u001b[38;5;124;43m'\u001b[39;49m\u001b[38;5;124;43mexp_12345\u001b[39;49m\u001b[38;5;124;43m'\u001b[39;49m\u001b[43m)\u001b[49m\n",
      "File \u001b[0;32m~/.local/lib/python3.10/site-packages/cassandra/cluster.py:3340\u001b[0m, in \u001b[0;36mcassandra.cluster.Session.set_keyspace\u001b[0;34m()\u001b[0m\n",
      "File \u001b[0;32m~/.local/lib/python3.10/site-packages/cassandra/cluster.py:2677\u001b[0m, in \u001b[0;36mcassandra.cluster.Session.execute\u001b[0;34m()\u001b[0m\n",
      "File \u001b[0;32m~/.local/lib/python3.10/site-packages/cassandra/cluster.py:4956\u001b[0m, in \u001b[0;36mcassandra.cluster.ResponseFuture.result\u001b[0;34m()\u001b[0m\n",
      "\u001b[0;31mNoHostAvailable\u001b[0m: ('Unable to complete the operation against any hosts', {<Host: 127.0.0.1:12001 DATACENTER1>: ConnectionException('Pool is shutdown')})"
     ]
    }
   ],
   "source": [
    "session.set_keyspace('exp_12345')"
   ]
  },
  {
   "cell_type": "code",
   "execution_count": null,
   "id": "fc245797-1cdf-420f-a9d6-3298fc9bf90b",
   "metadata": {},
   "outputs": [],
   "source": []
  },
  {
   "cell_type": "code",
   "execution_count": null,
   "id": "e3dd1465-6a7f-470f-89e7-6a1b58de6265",
   "metadata": {},
   "outputs": [],
   "source": []
  },
  {
   "cell_type": "code",
   "execution_count": null,
   "id": "b296ff0e-9b2c-4ea9-a55a-bacee598d4ee",
   "metadata": {},
   "outputs": [],
   "source": []
  },
  {
   "cell_type": "code",
   "execution_count": null,
   "id": "f9f779bd-77fd-49b9-ba3c-a1c9330e7c28",
   "metadata": {},
   "outputs": [],
   "source": []
  },
  {
   "cell_type": "code",
   "execution_count": null,
   "id": "afc7e0fb-6f79-4b65-a5d1-90c5c10aa940",
   "metadata": {},
   "outputs": [],
   "source": []
  },
  {
   "cell_type": "code",
   "execution_count": null,
   "id": "633fb57a-d53c-4548-8e7d-d962389f2d28",
   "metadata": {},
   "outputs": [],
   "source": []
  },
  {
   "cell_type": "code",
   "execution_count": null,
   "id": "84dcee04-4d51-4b4e-b6bd-0c0bb2af74ae",
   "metadata": {},
   "outputs": [],
   "source": []
  },
  {
   "cell_type": "code",
   "execution_count": null,
   "id": "19200d17-9cb7-42bd-83f6-82b0034d632b",
   "metadata": {},
   "outputs": [],
   "source": []
  },
  {
   "cell_type": "code",
   "execution_count": null,
   "id": "cd3dcef2-a0d6-4517-84f7-874c6cf2ca13",
   "metadata": {},
   "outputs": [],
   "source": []
  },
  {
   "cell_type": "code",
   "execution_count": null,
   "id": "d1bc95d7-ed91-4d62-b11c-c15c91d8af30",
   "metadata": {},
   "outputs": [],
   "source": []
  },
  {
   "cell_type": "code",
   "execution_count": null,
   "id": "61dc0a91-5ee0-4114-9eb3-ab61fef437b1",
   "metadata": {},
   "outputs": [],
   "source": []
  },
  {
   "cell_type": "code",
   "execution_count": null,
   "id": "2cea4e48-f2ac-4a23-a4eb-263f1651634b",
   "metadata": {},
   "outputs": [],
   "source": []
  },
  {
   "cell_type": "code",
   "execution_count": null,
   "id": "86a28985-5fa7-493b-9c40-969ea8154a97",
   "metadata": {},
   "outputs": [],
   "source": []
  },
  {
   "cell_type": "code",
   "execution_count": null,
   "id": "5e0e357b-9ec9-4ade-9f01-3798813cc455",
   "metadata": {},
   "outputs": [],
   "source": []
  },
  {
   "cell_type": "code",
   "execution_count": null,
   "id": "27877f4a-3ef7-4cb0-9edd-3e9bcfaebfcd",
   "metadata": {},
   "outputs": [],
   "source": []
  },
  {
   "cell_type": "code",
   "execution_count": null,
   "id": "413cbed0-e11e-456a-9212-5ce022248447",
   "metadata": {},
   "outputs": [],
   "source": []
  },
  {
   "cell_type": "code",
   "execution_count": null,
   "id": "78edc1ad-85dc-4c91-8b00-a58c216b8fcc",
   "metadata": {},
   "outputs": [],
   "source": []
  },
  {
   "cell_type": "code",
   "execution_count": null,
   "id": "11b78f0d-7a65-4191-bad4-4801c9703a1b",
   "metadata": {},
   "outputs": [],
   "source": []
  },
  {
   "cell_type": "code",
   "execution_count": null,
   "id": "971d93ac-3af2-433c-b401-3e0bcf07346a",
   "metadata": {},
   "outputs": [],
   "source": []
  },
  {
   "cell_type": "code",
   "execution_count": null,
   "id": "f9906213-0ec2-4f08-b777-222af284493e",
   "metadata": {},
   "outputs": [],
   "source": []
  },
  {
   "cell_type": "code",
   "execution_count": null,
   "id": "15f7be49-91f3-4007-aab1-bccc081af2b7",
   "metadata": {},
   "outputs": [],
   "source": []
  },
  {
   "cell_type": "code",
   "execution_count": null,
   "id": "9f9e751b-f17d-4239-a8a8-003eedd1d62b",
   "metadata": {},
   "outputs": [],
   "source": []
  },
  {
   "cell_type": "code",
   "execution_count": null,
   "id": "db409b7c-5ed8-40e8-ac52-981c09aa152b",
   "metadata": {},
   "outputs": [],
   "source": []
  },
  {
   "cell_type": "code",
   "execution_count": null,
   "id": "f248dea3-6b16-4402-a141-f80dd1f16fb9",
   "metadata": {},
   "outputs": [],
   "source": []
  },
  {
   "cell_type": "code",
   "execution_count": null,
   "id": "0bd578cd-c957-463f-aae6-3e6445114005",
   "metadata": {},
   "outputs": [],
   "source": []
  }
 ],
 "metadata": {
  "kernelspec": {
   "display_name": "Python 3 (ipykernel)",
   "language": "python",
   "name": "python3"
  },
  "language_info": {
   "codemirror_mode": {
    "name": "ipython",
    "version": 3
   },
   "file_extension": ".py",
   "mimetype": "text/x-python",
   "name": "python",
   "nbconvert_exporter": "python",
   "pygments_lexer": "ipython3",
   "version": "3.10.12"
  }
 },
 "nbformat": 4,
 "nbformat_minor": 5
}
