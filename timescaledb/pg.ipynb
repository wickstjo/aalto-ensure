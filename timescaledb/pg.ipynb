{
 "cells": [
  {
   "cell_type": "code",
   "execution_count": 83,
   "id": "db2ef625-0b0f-48f5-affa-ce6ea436aab0",
   "metadata": {},
   "outputs": [],
   "source": [
    "import psycopg2, time"
   ]
  },
  {
   "cell_type": "code",
   "execution_count": 17,
   "id": "3c843efc-83c6-409e-aa7b-7ea9cad6e1f1",
   "metadata": {},
   "outputs": [],
   "source": [
    "db_params = {\n",
    "    'host': 'localhost',\n",
    "    'database': '',\n",
    "    'user': 'timescaledb',\n",
    "    'password': 'password',\n",
    "    'port': '5432',\n",
    "}"
   ]
  },
  {
   "cell_type": "code",
   "execution_count": 91,
   "id": "7a4d6871-20dd-48e6-b2af-c0a4ab7fd0e3",
   "metadata": {},
   "outputs": [],
   "source": [
    "def pg_query(input, db=''):\n",
    "    try:\n",
    "\n",
    "        # CONNECTION PARAMS\n",
    "        db_params = {\n",
    "            'host': 'localhost',\n",
    "            'database': db,\n",
    "            'user': 'timescaledb',\n",
    "            'password': 'password',\n",
    "            'port': '5432',\n",
    "        }\n",
    "\n",
    "        # OPEN THE CONNECTION & CREATE A EXECUTOR\n",
    "        connection = psycopg2.connect(**db_params)\n",
    "        connection.autocommit = True\n",
    "        cursor = connection.cursor()\n",
    "\n",
    "        return cursor\n",
    "\n",
    "        # SINGLE COMMAND\n",
    "        if type(input) == str:\n",
    "            cursor.execute(input)\n",
    "\n",
    "        # LIST OF COMMANDS\n",
    "        elif type(input) == list:\n",
    "            for query in input:\n",
    "                cursor.execute(query)\n",
    "\n",
    "        # CATCH BAD ERRORS\n",
    "        else:\n",
    "            print('ERROR: BAD INPUT PARAMETER GIVEN (STR OR STR-LIST)')\n",
    "\n",
    "        # FINALLY, CLOSE THE CONNECTION\n",
    "        cursor.commit()\n",
    "        connection.close()\n",
    "        print('DISCONNECTED')\n",
    "\n",
    "    # CATCH ANY ERRORS\n",
    "    except (Exception, psycopg2.Error) as error:\n",
    "        print(\"ERROR:\", error)"
   ]
  },
  {
   "cell_type": "code",
   "execution_count": 68,
   "id": "7dffd668-2e6d-4d55-a1da-da8f9b4001cc",
   "metadata": {},
   "outputs": [
    {
     "data": {
      "text/plain": [
       "<cursor object at 0x7fbdb6fc2890; closed: 0>"
      ]
     },
     "execution_count": 68,
     "metadata": {},
     "output_type": "execute_result"
    }
   ],
   "source": [
    "pg_query('CREATE DATABASE EXP_1705581028;')"
   ]
  },
  {
   "cell_type": "code",
   "execution_count": null,
   "id": "93e9019b-0959-4d94-a26c-863a394ff674",
   "metadata": {},
   "outputs": [],
   "source": []
  },
  {
   "cell_type": "code",
   "execution_count": null,
   "id": "b92fdeee-f69e-447b-bad6-ccb679791c91",
   "metadata": {},
   "outputs": [],
   "source": []
  },
  {
   "cell_type": "code",
   "execution_count": null,
   "id": "651dc5c5-9c8f-466a-9038-8c44d997e656",
   "metadata": {},
   "outputs": [],
   "source": []
  },
  {
   "cell_type": "code",
   "execution_count": 74,
   "id": "a2c6ffdf-f0b0-4e42-9408-f878e316cd46",
   "metadata": {},
   "outputs": [],
   "source": [
    "def pg_cursor(db=''):\n",
    "    try:\n",
    "\n",
    "        # CONNECTION PARAMS\n",
    "        db_params = {\n",
    "            'host': 'localhost',\n",
    "            'database': db,\n",
    "            'user': 'timescaledb',\n",
    "            'password': 'password',\n",
    "            'port': '5432',\n",
    "        }\n",
    "\n",
    "        # OPEN THE CONNECTION & CREATE A EXECUTOR\n",
    "        connection = psycopg2.connect(**db_params)\n",
    "        connection.autocommit = True\n",
    "\n",
    "        # RETURN THE EXECUTOR CURSOR\n",
    "        return connection.cursor()\n",
    "\n",
    "        # FINALLY, CLOSE THE CONNECTION\n",
    "        connection.close()\n",
    "        print('DISCONNECTED')\n",
    "\n",
    "    # CATCH ANY ERRORS\n",
    "    except (Exception, psycopg2.Error) as error:\n",
    "        print(\"ERROR:\", error)"
   ]
  },
  {
   "cell_type": "code",
   "execution_count": 92,
   "id": "07287773-3164-412c-a92f-e96f2f05a0ce",
   "metadata": {},
   "outputs": [],
   "source": [
    "def save_snapshot():\n",
    "\n",
    "    # GENERATE EXPERIMENT ID\n",
    "    exp_id = 'EXP_' + str(int(time.time()))\n",
    "    print(exp_id)\n",
    "    \n",
    "    # CREATE A NEW DATABASE FOR EXPERIMENT\n",
    "    with pg_cursor('') as cursor:\n",
    "        cursor.execute(f'CREATE DATABASE {exp_id};')\n",
    "        cursor.commit()\n",
    "\n",
    "    # CREATE TABLE\n",
    "    with pg_cursor(exp_id) as cursor:\n",
    "        \n",
    "        tbl_query = \"\"\"\n",
    "            CREATE TABLE your_table_name (\n",
    "                first bigint,\n",
    "                second bigint,\n",
    "                third bigint,\n",
    "                ...\n",
    "            );\n",
    "        \"\"\"\n",
    "        \n",
    "        cursor.execute(tbl_query)"
   ]
  },
  {
   "cell_type": "code",
   "execution_count": 93,
   "id": "2af90f61-d8b7-4100-9b09-69db7f7d82b2",
   "metadata": {},
   "outputs": [
    {
     "name": "stdout",
     "output_type": "stream",
     "text": [
      "EXP_1705586460\n"
     ]
    },
    {
     "ename": "AttributeError",
     "evalue": "'psycopg2.extensions.cursor' object has no attribute 'commit'",
     "output_type": "error",
     "traceback": [
      "\u001b[0;31m---------------------------------------------------------------------------\u001b[0m",
      "\u001b[0;31mAttributeError\u001b[0m                            Traceback (most recent call last)",
      "Cell \u001b[0;32mIn[93], line 1\u001b[0m\n\u001b[0;32m----> 1\u001b[0m \u001b[43msave_snapshot\u001b[49m\u001b[43m(\u001b[49m\u001b[43m)\u001b[49m\n",
      "Cell \u001b[0;32mIn[92], line 10\u001b[0m, in \u001b[0;36msave_snapshot\u001b[0;34m()\u001b[0m\n\u001b[1;32m      8\u001b[0m \u001b[38;5;28;01mwith\u001b[39;00m pg_cursor(\u001b[38;5;124m'\u001b[39m\u001b[38;5;124m'\u001b[39m) \u001b[38;5;28;01mas\u001b[39;00m cursor:\n\u001b[1;32m      9\u001b[0m     cursor\u001b[38;5;241m.\u001b[39mexecute(\u001b[38;5;124mf\u001b[39m\u001b[38;5;124m'\u001b[39m\u001b[38;5;124mCREATE DATABASE \u001b[39m\u001b[38;5;132;01m{\u001b[39;00mexp_id\u001b[38;5;132;01m}\u001b[39;00m\u001b[38;5;124m;\u001b[39m\u001b[38;5;124m'\u001b[39m)\n\u001b[0;32m---> 10\u001b[0m     \u001b[43mcursor\u001b[49m\u001b[38;5;241;43m.\u001b[39;49m\u001b[43mcommit\u001b[49m()\n\u001b[1;32m     12\u001b[0m \u001b[38;5;66;03m# CREATE TABLE\u001b[39;00m\n\u001b[1;32m     13\u001b[0m \u001b[38;5;28;01mwith\u001b[39;00m pg_cursor(exp_id) \u001b[38;5;28;01mas\u001b[39;00m cursor:\n",
      "\u001b[0;31mAttributeError\u001b[0m: 'psycopg2.extensions.cursor' object has no attribute 'commit'"
     ]
    }
   ],
   "source": [
    "save_snapshot()"
   ]
  },
  {
   "cell_type": "code",
   "execution_count": null,
   "id": "a3dbe978-851a-4990-bb91-e7b626cef791",
   "metadata": {},
   "outputs": [],
   "source": []
  },
  {
   "cell_type": "code",
   "execution_count": null,
   "id": "8fd32906-bdc2-4631-815a-6a3d0dab529b",
   "metadata": {},
   "outputs": [],
   "source": []
  },
  {
   "cell_type": "code",
   "execution_count": null,
   "id": "c3334429-2f50-42ee-88c1-d5d83779fd4b",
   "metadata": {},
   "outputs": [],
   "source": []
  },
  {
   "cell_type": "code",
   "execution_count": null,
   "id": "a604523d-7cc3-4d9f-9dfc-785bed3215ae",
   "metadata": {},
   "outputs": [],
   "source": []
  },
  {
   "cell_type": "code",
   "execution_count": 165,
   "id": "d6b95bc9-6078-4322-8d09-68912e914359",
   "metadata": {},
   "outputs": [],
   "source": [
    "class pg_instance:\n",
    "    def __init__(self, db=''):\n",
    "\n",
    "        # CONNECTION PARAMS\n",
    "        db_params = {\n",
    "            'host': 'localhost',\n",
    "            'database': db,\n",
    "            'user': 'timescaledb',\n",
    "            'password': 'password',\n",
    "            'port': '5432',\n",
    "        }\n",
    "\n",
    "        # ESTABLISH CONNECTION\n",
    "        self.connection = psycopg2.connect(**db_params)\n",
    "        self.connection.autocommit = True\n",
    "\n",
    "    # PERFORM QUERY WITH CURSOR\n",
    "    def query(self, input):\n",
    "        with self.connection.cursor() as cursor:\n",
    "    \n",
    "            # SINGLE QUERY\n",
    "            if type(input) == str:\n",
    "                cursor.execute(input)\n",
    "                self.connection.commit()\n",
    "    \n",
    "            # MULTIPLE QUERIES\n",
    "            elif type(input) == list:\n",
    "                for query in input:\n",
    "                    cursor.execute(query)\n",
    "                    self.connection.commit()\n",
    "    \n",
    "            # CATCH BAD INPUT\n",
    "            else:\n",
    "                raise('ERROR: BAD INPUT')\n",
    "\n",
    "    # CREATE DB AND KILL INSTANCE\n",
    "    def create_db(self, db_name):\n",
    "        self.query(f'CREATE DATABASE {db_name};')\n",
    "\n",
    "    # KILL THE CONNECTION & CURSOR\n",
    "    def kill(self):\n",
    "        self.connection.close()\n",
    "        \n",
    "    def __del__(self):\n",
    "        self.kill()"
   ]
  },
  {
   "cell_type": "code",
   "execution_count": null,
   "id": "d73c12c5-2b83-467d-9872-4e2bc5cff82f",
   "metadata": {},
   "outputs": [],
   "source": []
  },
  {
   "cell_type": "code",
   "execution_count": 180,
   "id": "f382d10c-c592-4a3c-85de-b30b902824b9",
   "metadata": {},
   "outputs": [],
   "source": [
    "exp_id = 'EXP_' + str(int(time.time()))"
   ]
  },
  {
   "cell_type": "code",
   "execution_count": 186,
   "id": "204ab807-b4ce-4b64-a94a-0c77b8bf00ca",
   "metadata": {},
   "outputs": [
    {
     "ename": "DuplicateDatabase",
     "evalue": "database \"exp_1705588261\" already exists\n",
     "output_type": "error",
     "traceback": [
      "\u001b[0;31m---------------------------------------------------------------------------\u001b[0m",
      "\u001b[0;31mDuplicateDatabase\u001b[0m                         Traceback (most recent call last)",
      "Cell \u001b[0;32mIn[186], line 1\u001b[0m\n\u001b[0;32m----> 1\u001b[0m \u001b[43mpg_instance\u001b[49m\u001b[43m(\u001b[49m\u001b[43m)\u001b[49m\u001b[38;5;241;43m.\u001b[39;49m\u001b[43mquery\u001b[49m\u001b[43m(\u001b[49m\u001b[38;5;124;43mf\u001b[39;49m\u001b[38;5;124;43m'\u001b[39;49m\u001b[38;5;124;43mCREATE DATABASE \u001b[39;49m\u001b[38;5;132;43;01m{\u001b[39;49;00m\u001b[43mexp_id\u001b[49m\u001b[38;5;132;43;01m}\u001b[39;49;00m\u001b[38;5;124;43m;\u001b[39;49m\u001b[38;5;124;43m'\u001b[39;49m\u001b[43m)\u001b[49m\n",
      "Cell \u001b[0;32mIn[165], line 23\u001b[0m, in \u001b[0;36mpg_instance.query\u001b[0;34m(self, input)\u001b[0m\n\u001b[1;32m     19\u001b[0m \u001b[38;5;28;01mwith\u001b[39;00m \u001b[38;5;28mself\u001b[39m\u001b[38;5;241m.\u001b[39mconnection\u001b[38;5;241m.\u001b[39mcursor() \u001b[38;5;28;01mas\u001b[39;00m cursor:\n\u001b[1;32m     20\u001b[0m \n\u001b[1;32m     21\u001b[0m     \u001b[38;5;66;03m# SINGLE QUERY\u001b[39;00m\n\u001b[1;32m     22\u001b[0m     \u001b[38;5;28;01mif\u001b[39;00m \u001b[38;5;28mtype\u001b[39m(\u001b[38;5;28minput\u001b[39m) \u001b[38;5;241m==\u001b[39m \u001b[38;5;28mstr\u001b[39m:\n\u001b[0;32m---> 23\u001b[0m         \u001b[43mcursor\u001b[49m\u001b[38;5;241;43m.\u001b[39;49m\u001b[43mexecute\u001b[49m\u001b[43m(\u001b[49m\u001b[38;5;28;43minput\u001b[39;49m\u001b[43m)\u001b[49m\n\u001b[1;32m     24\u001b[0m         \u001b[38;5;28mself\u001b[39m\u001b[38;5;241m.\u001b[39mconnection\u001b[38;5;241m.\u001b[39mcommit()\n\u001b[1;32m     26\u001b[0m     \u001b[38;5;66;03m# MULTIPLE QUERIES\u001b[39;00m\n",
      "\u001b[0;31mDuplicateDatabase\u001b[0m: database \"exp_1705588261\" already exists\n"
     ]
    }
   ],
   "source": [
    "pg_instance().query(f'CREATE DATABASE {exp_id};')"
   ]
  },
  {
   "cell_type": "code",
   "execution_count": 188,
   "id": "81f6833b-f62c-4ae9-afeb-20e82ae3c714",
   "metadata": {},
   "outputs": [
    {
     "ename": "OperationalError",
     "evalue": "connection to server at \"localhost\" (127.0.0.1), port 5432 failed: FATAL:  database \"EXP_1705588261\" does not exist\n",
     "output_type": "error",
     "traceback": [
      "\u001b[0;31m---------------------------------------------------------------------------\u001b[0m",
      "\u001b[0;31mOperationalError\u001b[0m                          Traceback (most recent call last)",
      "Cell \u001b[0;32mIn[188], line 1\u001b[0m\n\u001b[0;32m----> 1\u001b[0m local_pg \u001b[38;5;241m=\u001b[39m \u001b[43mpg_instance\u001b[49m\u001b[43m(\u001b[49m\u001b[43mexp_id\u001b[49m\u001b[43m)\u001b[49m\n",
      "Cell \u001b[0;32mIn[165], line 14\u001b[0m, in \u001b[0;36mpg_instance.__init__\u001b[0;34m(self, db)\u001b[0m\n\u001b[1;32m      5\u001b[0m db_params \u001b[38;5;241m=\u001b[39m {\n\u001b[1;32m      6\u001b[0m     \u001b[38;5;124m'\u001b[39m\u001b[38;5;124mhost\u001b[39m\u001b[38;5;124m'\u001b[39m: \u001b[38;5;124m'\u001b[39m\u001b[38;5;124mlocalhost\u001b[39m\u001b[38;5;124m'\u001b[39m,\n\u001b[1;32m      7\u001b[0m     \u001b[38;5;124m'\u001b[39m\u001b[38;5;124mdatabase\u001b[39m\u001b[38;5;124m'\u001b[39m: db,\n\u001b[0;32m   (...)\u001b[0m\n\u001b[1;32m     10\u001b[0m     \u001b[38;5;124m'\u001b[39m\u001b[38;5;124mport\u001b[39m\u001b[38;5;124m'\u001b[39m: \u001b[38;5;124m'\u001b[39m\u001b[38;5;124m5432\u001b[39m\u001b[38;5;124m'\u001b[39m,\n\u001b[1;32m     11\u001b[0m }\n\u001b[1;32m     13\u001b[0m \u001b[38;5;66;03m# ESTABLISH CONNECTION\u001b[39;00m\n\u001b[0;32m---> 14\u001b[0m \u001b[38;5;28mself\u001b[39m\u001b[38;5;241m.\u001b[39mconnection \u001b[38;5;241m=\u001b[39m \u001b[43mpsycopg2\u001b[49m\u001b[38;5;241;43m.\u001b[39;49m\u001b[43mconnect\u001b[49m\u001b[43m(\u001b[49m\u001b[38;5;241;43m*\u001b[39;49m\u001b[38;5;241;43m*\u001b[39;49m\u001b[43mdb_params\u001b[49m\u001b[43m)\u001b[49m\n\u001b[1;32m     15\u001b[0m \u001b[38;5;28mself\u001b[39m\u001b[38;5;241m.\u001b[39mconnection\u001b[38;5;241m.\u001b[39mautocommit \u001b[38;5;241m=\u001b[39m \u001b[38;5;28;01mTrue\u001b[39;00m\n",
      "File \u001b[0;32m~/.local/lib/python3.10/site-packages/psycopg2/__init__.py:122\u001b[0m, in \u001b[0;36mconnect\u001b[0;34m(dsn, connection_factory, cursor_factory, **kwargs)\u001b[0m\n\u001b[1;32m    119\u001b[0m     kwasync[\u001b[38;5;124m'\u001b[39m\u001b[38;5;124masync_\u001b[39m\u001b[38;5;124m'\u001b[39m] \u001b[38;5;241m=\u001b[39m kwargs\u001b[38;5;241m.\u001b[39mpop(\u001b[38;5;124m'\u001b[39m\u001b[38;5;124masync_\u001b[39m\u001b[38;5;124m'\u001b[39m)\n\u001b[1;32m    121\u001b[0m dsn \u001b[38;5;241m=\u001b[39m _ext\u001b[38;5;241m.\u001b[39mmake_dsn(dsn, \u001b[38;5;241m*\u001b[39m\u001b[38;5;241m*\u001b[39mkwargs)\n\u001b[0;32m--> 122\u001b[0m conn \u001b[38;5;241m=\u001b[39m \u001b[43m_connect\u001b[49m\u001b[43m(\u001b[49m\u001b[43mdsn\u001b[49m\u001b[43m,\u001b[49m\u001b[43m \u001b[49m\u001b[43mconnection_factory\u001b[49m\u001b[38;5;241;43m=\u001b[39;49m\u001b[43mconnection_factory\u001b[49m\u001b[43m,\u001b[49m\u001b[43m \u001b[49m\u001b[38;5;241;43m*\u001b[39;49m\u001b[38;5;241;43m*\u001b[39;49m\u001b[43mkwasync\u001b[49m\u001b[43m)\u001b[49m\n\u001b[1;32m    123\u001b[0m \u001b[38;5;28;01mif\u001b[39;00m cursor_factory \u001b[38;5;129;01mis\u001b[39;00m \u001b[38;5;129;01mnot\u001b[39;00m \u001b[38;5;28;01mNone\u001b[39;00m:\n\u001b[1;32m    124\u001b[0m     conn\u001b[38;5;241m.\u001b[39mcursor_factory \u001b[38;5;241m=\u001b[39m cursor_factory\n",
      "\u001b[0;31mOperationalError\u001b[0m: connection to server at \"localhost\" (127.0.0.1), port 5432 failed: FATAL:  database \"EXP_1705588261\" does not exist\n"
     ]
    }
   ],
   "source": [
    "local_pg = pg_instance(exp_id)"
   ]
  },
  {
   "cell_type": "code",
   "execution_count": null,
   "id": "cd1df990-2dca-4886-97b9-17a70de16e5d",
   "metadata": {},
   "outputs": [],
   "source": []
  },
  {
   "cell_type": "code",
   "execution_count": 179,
   "id": "b5273833-7a35-4619-8fcd-eac42865a428",
   "metadata": {},
   "outputs": [
    {
     "name": "stderr",
     "output_type": "stream",
     "text": [
      "Exception ignored in: <function pg_instance.__del__ at 0x7fbdb66d0dc0>\n",
      "Traceback (most recent call last):\n",
      "  File \"/tmp/ipykernel_3934353/2911335065.py\", line 45, in __del__\n",
      "  File \"/tmp/ipykernel_3934353/2911335065.py\", line 42, in kill\n",
      "AttributeError: 'pg_instance' object has no attribute 'connection'\n",
      "Exception ignored in: <function pg_instance.__del__ at 0x7fbdb66d0dc0>\n",
      "Traceback (most recent call last):\n",
      "  File \"/tmp/ipykernel_3934353/2911335065.py\", line 45, in __del__\n",
      "  File \"/tmp/ipykernel_3934353/2911335065.py\", line 42, in kill\n",
      "AttributeError: 'pg_instance' object has no attribute 'connection'\n"
     ]
    },
    {
     "ename": "OperationalError",
     "evalue": "connection to server at \"localhost\" (127.0.0.1), port 5432 failed: FATAL:  database \"EXP_1705588257\" does not exist\n",
     "output_type": "error",
     "traceback": [
      "\u001b[0;31m---------------------------------------------------------------------------\u001b[0m",
      "\u001b[0;31mOperationalError\u001b[0m                          Traceback (most recent call last)",
      "Cell \u001b[0;32mIn[179], line 6\u001b[0m\n\u001b[1;32m      3\u001b[0m pg_instance()\u001b[38;5;241m.\u001b[39mquery(\u001b[38;5;124mf\u001b[39m\u001b[38;5;124m'\u001b[39m\u001b[38;5;124mCREATE DATABASE \u001b[39m\u001b[38;5;132;01m{\u001b[39;00mexp_id\u001b[38;5;132;01m}\u001b[39;00m\u001b[38;5;124m;\u001b[39m\u001b[38;5;124m'\u001b[39m)\n\u001b[1;32m      5\u001b[0m \u001b[38;5;66;03m#pg_instance().create_db(exp_id)\u001b[39;00m\n\u001b[0;32m----> 6\u001b[0m local_pg \u001b[38;5;241m=\u001b[39m \u001b[43mpg_instance\u001b[49m\u001b[43m(\u001b[49m\u001b[43mexp_id\u001b[49m\u001b[43m)\u001b[49m\n",
      "Cell \u001b[0;32mIn[165], line 14\u001b[0m, in \u001b[0;36mpg_instance.__init__\u001b[0;34m(self, db)\u001b[0m\n\u001b[1;32m      5\u001b[0m db_params \u001b[38;5;241m=\u001b[39m {\n\u001b[1;32m      6\u001b[0m     \u001b[38;5;124m'\u001b[39m\u001b[38;5;124mhost\u001b[39m\u001b[38;5;124m'\u001b[39m: \u001b[38;5;124m'\u001b[39m\u001b[38;5;124mlocalhost\u001b[39m\u001b[38;5;124m'\u001b[39m,\n\u001b[1;32m      7\u001b[0m     \u001b[38;5;124m'\u001b[39m\u001b[38;5;124mdatabase\u001b[39m\u001b[38;5;124m'\u001b[39m: db,\n\u001b[0;32m   (...)\u001b[0m\n\u001b[1;32m     10\u001b[0m     \u001b[38;5;124m'\u001b[39m\u001b[38;5;124mport\u001b[39m\u001b[38;5;124m'\u001b[39m: \u001b[38;5;124m'\u001b[39m\u001b[38;5;124m5432\u001b[39m\u001b[38;5;124m'\u001b[39m,\n\u001b[1;32m     11\u001b[0m }\n\u001b[1;32m     13\u001b[0m \u001b[38;5;66;03m# ESTABLISH CONNECTION\u001b[39;00m\n\u001b[0;32m---> 14\u001b[0m \u001b[38;5;28mself\u001b[39m\u001b[38;5;241m.\u001b[39mconnection \u001b[38;5;241m=\u001b[39m \u001b[43mpsycopg2\u001b[49m\u001b[38;5;241;43m.\u001b[39;49m\u001b[43mconnect\u001b[49m\u001b[43m(\u001b[49m\u001b[38;5;241;43m*\u001b[39;49m\u001b[38;5;241;43m*\u001b[39;49m\u001b[43mdb_params\u001b[49m\u001b[43m)\u001b[49m\n\u001b[1;32m     15\u001b[0m \u001b[38;5;28mself\u001b[39m\u001b[38;5;241m.\u001b[39mconnection\u001b[38;5;241m.\u001b[39mautocommit \u001b[38;5;241m=\u001b[39m \u001b[38;5;28;01mTrue\u001b[39;00m\n",
      "File \u001b[0;32m~/.local/lib/python3.10/site-packages/psycopg2/__init__.py:122\u001b[0m, in \u001b[0;36mconnect\u001b[0;34m(dsn, connection_factory, cursor_factory, **kwargs)\u001b[0m\n\u001b[1;32m    119\u001b[0m     kwasync[\u001b[38;5;124m'\u001b[39m\u001b[38;5;124masync_\u001b[39m\u001b[38;5;124m'\u001b[39m] \u001b[38;5;241m=\u001b[39m kwargs\u001b[38;5;241m.\u001b[39mpop(\u001b[38;5;124m'\u001b[39m\u001b[38;5;124masync_\u001b[39m\u001b[38;5;124m'\u001b[39m)\n\u001b[1;32m    121\u001b[0m dsn \u001b[38;5;241m=\u001b[39m _ext\u001b[38;5;241m.\u001b[39mmake_dsn(dsn, \u001b[38;5;241m*\u001b[39m\u001b[38;5;241m*\u001b[39mkwargs)\n\u001b[0;32m--> 122\u001b[0m conn \u001b[38;5;241m=\u001b[39m \u001b[43m_connect\u001b[49m\u001b[43m(\u001b[49m\u001b[43mdsn\u001b[49m\u001b[43m,\u001b[49m\u001b[43m \u001b[49m\u001b[43mconnection_factory\u001b[49m\u001b[38;5;241;43m=\u001b[39;49m\u001b[43mconnection_factory\u001b[49m\u001b[43m,\u001b[49m\u001b[43m \u001b[49m\u001b[38;5;241;43m*\u001b[39;49m\u001b[38;5;241;43m*\u001b[39;49m\u001b[43mkwasync\u001b[49m\u001b[43m)\u001b[49m\n\u001b[1;32m    123\u001b[0m \u001b[38;5;28;01mif\u001b[39;00m cursor_factory \u001b[38;5;129;01mis\u001b[39;00m \u001b[38;5;129;01mnot\u001b[39;00m \u001b[38;5;28;01mNone\u001b[39;00m:\n\u001b[1;32m    124\u001b[0m     conn\u001b[38;5;241m.\u001b[39mcursor_factory \u001b[38;5;241m=\u001b[39m cursor_factory\n",
      "\u001b[0;31mOperationalError\u001b[0m: connection to server at \"localhost\" (127.0.0.1), port 5432 failed: FATAL:  database \"EXP_1705588257\" does not exist\n"
     ]
    }
   ],
   "source": [
    "exp_id = 'EXP_' + str(int(time.time()))\n",
    "\n",
    "pg_instance().query(f'CREATE DATABASE {exp_id};')\n",
    "\n",
    "#pg_instance().create_db(exp_id)\n",
    "local_pg = pg_instance(exp_id)"
   ]
  },
  {
   "cell_type": "code",
   "execution_count": 177,
   "id": "7f54e68e-64c5-4af3-b65c-cbc9bd40baaf",
   "metadata": {},
   "outputs": [
    {
     "ename": "OperationalError",
     "evalue": "connection to server at \"localhost\" (127.0.0.1), port 5432 failed: FATAL:  database \"EXP_1705588103\" does not exist\n",
     "output_type": "error",
     "traceback": [
      "\u001b[0;31m---------------------------------------------------------------------------\u001b[0m",
      "\u001b[0;31mOperationalError\u001b[0m                          Traceback (most recent call last)",
      "Cell \u001b[0;32mIn[177], line 1\u001b[0m\n\u001b[0;32m----> 1\u001b[0m local_pg \u001b[38;5;241m=\u001b[39m \u001b[43mpg_instance\u001b[49m\u001b[43m(\u001b[49m\u001b[43mexp_id\u001b[49m\u001b[43m)\u001b[49m\n",
      "Cell \u001b[0;32mIn[165], line 14\u001b[0m, in \u001b[0;36mpg_instance.__init__\u001b[0;34m(self, db)\u001b[0m\n\u001b[1;32m      5\u001b[0m db_params \u001b[38;5;241m=\u001b[39m {\n\u001b[1;32m      6\u001b[0m     \u001b[38;5;124m'\u001b[39m\u001b[38;5;124mhost\u001b[39m\u001b[38;5;124m'\u001b[39m: \u001b[38;5;124m'\u001b[39m\u001b[38;5;124mlocalhost\u001b[39m\u001b[38;5;124m'\u001b[39m,\n\u001b[1;32m      7\u001b[0m     \u001b[38;5;124m'\u001b[39m\u001b[38;5;124mdatabase\u001b[39m\u001b[38;5;124m'\u001b[39m: db,\n\u001b[0;32m   (...)\u001b[0m\n\u001b[1;32m     10\u001b[0m     \u001b[38;5;124m'\u001b[39m\u001b[38;5;124mport\u001b[39m\u001b[38;5;124m'\u001b[39m: \u001b[38;5;124m'\u001b[39m\u001b[38;5;124m5432\u001b[39m\u001b[38;5;124m'\u001b[39m,\n\u001b[1;32m     11\u001b[0m }\n\u001b[1;32m     13\u001b[0m \u001b[38;5;66;03m# ESTABLISH CONNECTION\u001b[39;00m\n\u001b[0;32m---> 14\u001b[0m \u001b[38;5;28mself\u001b[39m\u001b[38;5;241m.\u001b[39mconnection \u001b[38;5;241m=\u001b[39m \u001b[43mpsycopg2\u001b[49m\u001b[38;5;241;43m.\u001b[39;49m\u001b[43mconnect\u001b[49m\u001b[43m(\u001b[49m\u001b[38;5;241;43m*\u001b[39;49m\u001b[38;5;241;43m*\u001b[39;49m\u001b[43mdb_params\u001b[49m\u001b[43m)\u001b[49m\n\u001b[1;32m     15\u001b[0m \u001b[38;5;28mself\u001b[39m\u001b[38;5;241m.\u001b[39mconnection\u001b[38;5;241m.\u001b[39mautocommit \u001b[38;5;241m=\u001b[39m \u001b[38;5;28;01mTrue\u001b[39;00m\n",
      "File \u001b[0;32m~/.local/lib/python3.10/site-packages/psycopg2/__init__.py:122\u001b[0m, in \u001b[0;36mconnect\u001b[0;34m(dsn, connection_factory, cursor_factory, **kwargs)\u001b[0m\n\u001b[1;32m    119\u001b[0m     kwasync[\u001b[38;5;124m'\u001b[39m\u001b[38;5;124masync_\u001b[39m\u001b[38;5;124m'\u001b[39m] \u001b[38;5;241m=\u001b[39m kwargs\u001b[38;5;241m.\u001b[39mpop(\u001b[38;5;124m'\u001b[39m\u001b[38;5;124masync_\u001b[39m\u001b[38;5;124m'\u001b[39m)\n\u001b[1;32m    121\u001b[0m dsn \u001b[38;5;241m=\u001b[39m _ext\u001b[38;5;241m.\u001b[39mmake_dsn(dsn, \u001b[38;5;241m*\u001b[39m\u001b[38;5;241m*\u001b[39mkwargs)\n\u001b[0;32m--> 122\u001b[0m conn \u001b[38;5;241m=\u001b[39m \u001b[43m_connect\u001b[49m\u001b[43m(\u001b[49m\u001b[43mdsn\u001b[49m\u001b[43m,\u001b[49m\u001b[43m \u001b[49m\u001b[43mconnection_factory\u001b[49m\u001b[38;5;241;43m=\u001b[39;49m\u001b[43mconnection_factory\u001b[49m\u001b[43m,\u001b[49m\u001b[43m \u001b[49m\u001b[38;5;241;43m*\u001b[39;49m\u001b[38;5;241;43m*\u001b[39;49m\u001b[43mkwasync\u001b[49m\u001b[43m)\u001b[49m\n\u001b[1;32m    123\u001b[0m \u001b[38;5;28;01mif\u001b[39;00m cursor_factory \u001b[38;5;129;01mis\u001b[39;00m \u001b[38;5;129;01mnot\u001b[39;00m \u001b[38;5;28;01mNone\u001b[39;00m:\n\u001b[1;32m    124\u001b[0m     conn\u001b[38;5;241m.\u001b[39mcursor_factory \u001b[38;5;241m=\u001b[39m cursor_factory\n",
      "\u001b[0;31mOperationalError\u001b[0m: connection to server at \"localhost\" (127.0.0.1), port 5432 failed: FATAL:  database \"EXP_1705588103\" does not exist\n"
     ]
    }
   ],
   "source": [
    "local_pg = pg_instance(exp_id)"
   ]
  },
  {
   "cell_type": "code",
   "execution_count": null,
   "id": "26e1bb80-1b53-42b0-86f2-982845953585",
   "metadata": {},
   "outputs": [],
   "source": []
  },
  {
   "cell_type": "code",
   "execution_count": 163,
   "id": "36df6891-e438-47b3-a7cb-3395fb609659",
   "metadata": {},
   "outputs": [],
   "source": [
    "def SNAPSHOT():\n",
    "\n",
    "    # GENERATE EXPERIMENT ID\n",
    "    exp_id = 'EXP_' + str(int(time.time()))\n",
    "    print(exp_id)\n",
    "\n",
    "    # CREATE NEW DB\n",
    "    pg_instance().create_db(exp_id)\n",
    "\n",
    "    # CREATE DB CONNECTION\n",
    "    PG = pg_instance(exp_id)\n",
    "\n",
    "    # CREATE TABLE\n",
    "    PG.query(\"\"\"\n",
    "        CREATE TABLE your_table_name (\n",
    "            first bigint,\n",
    "            second bigint,\n",
    "            third bigint,\n",
    "            ...\n",
    "        );\n",
    "    \"\"\")"
   ]
  },
  {
   "cell_type": "code",
   "execution_count": 164,
   "id": "3a8bfce5-dbcb-476c-8fe1-3fb4e43f196e",
   "metadata": {
    "scrolled": true
   },
   "outputs": [
    {
     "name": "stderr",
     "output_type": "stream",
     "text": [
      "Exception ignored in: <function pg_instance.__del__ at 0x7fbdb67b1d80>\n",
      "Traceback (most recent call last):\n",
      "  File \"/tmp/ipykernel_3934353/2181555463.py\", line 46, in __del__\n",
      "  File \"/tmp/ipykernel_3934353/2181555463.py\", line 43, in kill\n",
      "AttributeError: 'pg_instance' object has no attribute 'connection'\n",
      "Exception ignored in: <function pg_instance.__del__ at 0x7fbdb67b1d80>\n",
      "Traceback (most recent call last):\n",
      "  File \"/tmp/ipykernel_3934353/2181555463.py\", line 46, in __del__\n",
      "  File \"/tmp/ipykernel_3934353/2181555463.py\", line 43, in kill\n",
      "AttributeError: 'pg_instance' object has no attribute 'connection'\n",
      "Exception ignored in: <function pg_instance.__del__ at 0x7fbdb67b1d80>\n",
      "Traceback (most recent call last):\n",
      "  File \"/tmp/ipykernel_3934353/2181555463.py\", line 46, in __del__\n",
      "  File \"/tmp/ipykernel_3934353/2181555463.py\", line 43, in kill\n",
      "AttributeError: 'pg_instance' object has no attribute 'connection'\n"
     ]
    },
    {
     "name": "stdout",
     "output_type": "stream",
     "text": [
      "EXP_1705587947\n"
     ]
    },
    {
     "ename": "OperationalError",
     "evalue": "connection to server at \"localhost\" (127.0.0.1), port 5432 failed: FATAL:  database \"EXP_1705587947\" does not exist\n",
     "output_type": "error",
     "traceback": [
      "\u001b[0;31m---------------------------------------------------------------------------\u001b[0m",
      "\u001b[0;31mOperationalError\u001b[0m                          Traceback (most recent call last)",
      "Cell \u001b[0;32mIn[164], line 1\u001b[0m\n\u001b[0;32m----> 1\u001b[0m \u001b[43mSNAPSHOT\u001b[49m\u001b[43m(\u001b[49m\u001b[43m)\u001b[49m\n",
      "Cell \u001b[0;32mIn[163], line 11\u001b[0m, in \u001b[0;36mSNAPSHOT\u001b[0;34m()\u001b[0m\n\u001b[1;32m      8\u001b[0m pg_instance()\u001b[38;5;241m.\u001b[39mcreate_db(exp_id)\n\u001b[1;32m     10\u001b[0m \u001b[38;5;66;03m# CREATE DB CONNECTION\u001b[39;00m\n\u001b[0;32m---> 11\u001b[0m PG \u001b[38;5;241m=\u001b[39m \u001b[43mpg_instance\u001b[49m\u001b[43m(\u001b[49m\u001b[43mexp_id\u001b[49m\u001b[43m)\u001b[49m\n\u001b[1;32m     13\u001b[0m \u001b[38;5;66;03m# CREATE TABLE\u001b[39;00m\n\u001b[1;32m     14\u001b[0m PG\u001b[38;5;241m.\u001b[39mquery(\u001b[38;5;124m\"\"\"\u001b[39m\n\u001b[1;32m     15\u001b[0m \u001b[38;5;124m    CREATE TABLE your_table_name (\u001b[39m\n\u001b[1;32m     16\u001b[0m \u001b[38;5;124m        first bigint,\u001b[39m\n\u001b[0;32m   (...)\u001b[0m\n\u001b[1;32m     20\u001b[0m \u001b[38;5;124m    );\u001b[39m\n\u001b[1;32m     21\u001b[0m \u001b[38;5;124m\u001b[39m\u001b[38;5;124m\"\"\"\u001b[39m)\n",
      "Cell \u001b[0;32mIn[162], line 14\u001b[0m, in \u001b[0;36mpg_instance.__init__\u001b[0;34m(self, db)\u001b[0m\n\u001b[1;32m      5\u001b[0m db_params \u001b[38;5;241m=\u001b[39m {\n\u001b[1;32m      6\u001b[0m     \u001b[38;5;124m'\u001b[39m\u001b[38;5;124mhost\u001b[39m\u001b[38;5;124m'\u001b[39m: \u001b[38;5;124m'\u001b[39m\u001b[38;5;124mlocalhost\u001b[39m\u001b[38;5;124m'\u001b[39m,\n\u001b[1;32m      7\u001b[0m     \u001b[38;5;124m'\u001b[39m\u001b[38;5;124mdatabase\u001b[39m\u001b[38;5;124m'\u001b[39m: db,\n\u001b[0;32m   (...)\u001b[0m\n\u001b[1;32m     10\u001b[0m     \u001b[38;5;124m'\u001b[39m\u001b[38;5;124mport\u001b[39m\u001b[38;5;124m'\u001b[39m: \u001b[38;5;124m'\u001b[39m\u001b[38;5;124m5432\u001b[39m\u001b[38;5;124m'\u001b[39m,\n\u001b[1;32m     11\u001b[0m }\n\u001b[1;32m     13\u001b[0m \u001b[38;5;66;03m# ESTABLISH CONNECTION\u001b[39;00m\n\u001b[0;32m---> 14\u001b[0m \u001b[38;5;28mself\u001b[39m\u001b[38;5;241m.\u001b[39mconnection \u001b[38;5;241m=\u001b[39m \u001b[43mpsycopg2\u001b[49m\u001b[38;5;241;43m.\u001b[39;49m\u001b[43mconnect\u001b[49m\u001b[43m(\u001b[49m\u001b[38;5;241;43m*\u001b[39;49m\u001b[38;5;241;43m*\u001b[39;49m\u001b[43mdb_params\u001b[49m\u001b[43m)\u001b[49m\n\u001b[1;32m     15\u001b[0m \u001b[38;5;28mself\u001b[39m\u001b[38;5;241m.\u001b[39mconnection\u001b[38;5;241m.\u001b[39mautocommit \u001b[38;5;241m=\u001b[39m \u001b[38;5;28;01mTrue\u001b[39;00m\n",
      "File \u001b[0;32m~/.local/lib/python3.10/site-packages/psycopg2/__init__.py:122\u001b[0m, in \u001b[0;36mconnect\u001b[0;34m(dsn, connection_factory, cursor_factory, **kwargs)\u001b[0m\n\u001b[1;32m    119\u001b[0m     kwasync[\u001b[38;5;124m'\u001b[39m\u001b[38;5;124masync_\u001b[39m\u001b[38;5;124m'\u001b[39m] \u001b[38;5;241m=\u001b[39m kwargs\u001b[38;5;241m.\u001b[39mpop(\u001b[38;5;124m'\u001b[39m\u001b[38;5;124masync_\u001b[39m\u001b[38;5;124m'\u001b[39m)\n\u001b[1;32m    121\u001b[0m dsn \u001b[38;5;241m=\u001b[39m _ext\u001b[38;5;241m.\u001b[39mmake_dsn(dsn, \u001b[38;5;241m*\u001b[39m\u001b[38;5;241m*\u001b[39mkwargs)\n\u001b[0;32m--> 122\u001b[0m conn \u001b[38;5;241m=\u001b[39m \u001b[43m_connect\u001b[49m\u001b[43m(\u001b[49m\u001b[43mdsn\u001b[49m\u001b[43m,\u001b[49m\u001b[43m \u001b[49m\u001b[43mconnection_factory\u001b[49m\u001b[38;5;241;43m=\u001b[39;49m\u001b[43mconnection_factory\u001b[49m\u001b[43m,\u001b[49m\u001b[43m \u001b[49m\u001b[38;5;241;43m*\u001b[39;49m\u001b[38;5;241;43m*\u001b[39;49m\u001b[43mkwasync\u001b[49m\u001b[43m)\u001b[49m\n\u001b[1;32m    123\u001b[0m \u001b[38;5;28;01mif\u001b[39;00m cursor_factory \u001b[38;5;129;01mis\u001b[39;00m \u001b[38;5;129;01mnot\u001b[39;00m \u001b[38;5;28;01mNone\u001b[39;00m:\n\u001b[1;32m    124\u001b[0m     conn\u001b[38;5;241m.\u001b[39mcursor_factory \u001b[38;5;241m=\u001b[39m cursor_factory\n",
      "\u001b[0;31mOperationalError\u001b[0m: connection to server at \"localhost\" (127.0.0.1), port 5432 failed: FATAL:  database \"EXP_1705587947\" does not exist\n"
     ]
    }
   ],
   "source": [
    "SNAPSHOT()"
   ]
  },
  {
   "cell_type": "code",
   "execution_count": null,
   "id": "efe80c48-c377-4880-97b9-91704bc414d4",
   "metadata": {},
   "outputs": [],
   "source": []
  },
  {
   "cell_type": "code",
   "execution_count": 168,
   "id": "5d89c659-86a3-40f0-a92d-0fc99b02fbd7",
   "metadata": {},
   "outputs": [],
   "source": [
    "pg_instance().create_db('fofooZF5')\n",
    "local_pg = pg_instance('fofooZF5')"
   ]
  },
  {
   "cell_type": "code",
   "execution_count": 169,
   "id": "5c06802b-e792-492d-91e7-85d06ea67491",
   "metadata": {},
   "outputs": [
    {
     "ename": "OperationalError",
     "evalue": "connection to server at \"localhost\" (127.0.0.1), port 5432 failed: FATAL:  database \"fofooZF5\" does not exist\n",
     "output_type": "error",
     "traceback": [
      "\u001b[0;31m---------------------------------------------------------------------------\u001b[0m",
      "\u001b[0;31mOperationalError\u001b[0m                          Traceback (most recent call last)",
      "Cell \u001b[0;32mIn[169], line 1\u001b[0m\n\u001b[0;32m----> 1\u001b[0m local_pg \u001b[38;5;241m=\u001b[39m \u001b[43mpg_instance\u001b[49m\u001b[43m(\u001b[49m\u001b[38;5;124;43m'\u001b[39;49m\u001b[38;5;124;43mfofooZF5\u001b[39;49m\u001b[38;5;124;43m'\u001b[39;49m\u001b[43m)\u001b[49m\n",
      "Cell \u001b[0;32mIn[165], line 14\u001b[0m, in \u001b[0;36mpg_instance.__init__\u001b[0;34m(self, db)\u001b[0m\n\u001b[1;32m      5\u001b[0m db_params \u001b[38;5;241m=\u001b[39m {\n\u001b[1;32m      6\u001b[0m     \u001b[38;5;124m'\u001b[39m\u001b[38;5;124mhost\u001b[39m\u001b[38;5;124m'\u001b[39m: \u001b[38;5;124m'\u001b[39m\u001b[38;5;124mlocalhost\u001b[39m\u001b[38;5;124m'\u001b[39m,\n\u001b[1;32m      7\u001b[0m     \u001b[38;5;124m'\u001b[39m\u001b[38;5;124mdatabase\u001b[39m\u001b[38;5;124m'\u001b[39m: db,\n\u001b[0;32m   (...)\u001b[0m\n\u001b[1;32m     10\u001b[0m     \u001b[38;5;124m'\u001b[39m\u001b[38;5;124mport\u001b[39m\u001b[38;5;124m'\u001b[39m: \u001b[38;5;124m'\u001b[39m\u001b[38;5;124m5432\u001b[39m\u001b[38;5;124m'\u001b[39m,\n\u001b[1;32m     11\u001b[0m }\n\u001b[1;32m     13\u001b[0m \u001b[38;5;66;03m# ESTABLISH CONNECTION\u001b[39;00m\n\u001b[0;32m---> 14\u001b[0m \u001b[38;5;28mself\u001b[39m\u001b[38;5;241m.\u001b[39mconnection \u001b[38;5;241m=\u001b[39m \u001b[43mpsycopg2\u001b[49m\u001b[38;5;241;43m.\u001b[39;49m\u001b[43mconnect\u001b[49m\u001b[43m(\u001b[49m\u001b[38;5;241;43m*\u001b[39;49m\u001b[38;5;241;43m*\u001b[39;49m\u001b[43mdb_params\u001b[49m\u001b[43m)\u001b[49m\n\u001b[1;32m     15\u001b[0m \u001b[38;5;28mself\u001b[39m\u001b[38;5;241m.\u001b[39mconnection\u001b[38;5;241m.\u001b[39mautocommit \u001b[38;5;241m=\u001b[39m \u001b[38;5;28;01mTrue\u001b[39;00m\n",
      "File \u001b[0;32m~/.local/lib/python3.10/site-packages/psycopg2/__init__.py:122\u001b[0m, in \u001b[0;36mconnect\u001b[0;34m(dsn, connection_factory, cursor_factory, **kwargs)\u001b[0m\n\u001b[1;32m    119\u001b[0m     kwasync[\u001b[38;5;124m'\u001b[39m\u001b[38;5;124masync_\u001b[39m\u001b[38;5;124m'\u001b[39m] \u001b[38;5;241m=\u001b[39m kwargs\u001b[38;5;241m.\u001b[39mpop(\u001b[38;5;124m'\u001b[39m\u001b[38;5;124masync_\u001b[39m\u001b[38;5;124m'\u001b[39m)\n\u001b[1;32m    121\u001b[0m dsn \u001b[38;5;241m=\u001b[39m _ext\u001b[38;5;241m.\u001b[39mmake_dsn(dsn, \u001b[38;5;241m*\u001b[39m\u001b[38;5;241m*\u001b[39mkwargs)\n\u001b[0;32m--> 122\u001b[0m conn \u001b[38;5;241m=\u001b[39m \u001b[43m_connect\u001b[49m\u001b[43m(\u001b[49m\u001b[43mdsn\u001b[49m\u001b[43m,\u001b[49m\u001b[43m \u001b[49m\u001b[43mconnection_factory\u001b[49m\u001b[38;5;241;43m=\u001b[39;49m\u001b[43mconnection_factory\u001b[49m\u001b[43m,\u001b[49m\u001b[43m \u001b[49m\u001b[38;5;241;43m*\u001b[39;49m\u001b[38;5;241;43m*\u001b[39;49m\u001b[43mkwasync\u001b[49m\u001b[43m)\u001b[49m\n\u001b[1;32m    123\u001b[0m \u001b[38;5;28;01mif\u001b[39;00m cursor_factory \u001b[38;5;129;01mis\u001b[39;00m \u001b[38;5;129;01mnot\u001b[39;00m \u001b[38;5;28;01mNone\u001b[39;00m:\n\u001b[1;32m    124\u001b[0m     conn\u001b[38;5;241m.\u001b[39mcursor_factory \u001b[38;5;241m=\u001b[39m cursor_factory\n",
      "\u001b[0;31mOperationalError\u001b[0m: connection to server at \"localhost\" (127.0.0.1), port 5432 failed: FATAL:  database \"fofooZF5\" does not exist\n"
     ]
    }
   ],
   "source": [
    "local_pg = pg_instance('fofooZF5')"
   ]
  },
  {
   "cell_type": "code",
   "execution_count": null,
   "id": "0dce934c-4082-4467-a520-2255337bab9b",
   "metadata": {},
   "outputs": [],
   "source": []
  },
  {
   "cell_type": "code",
   "execution_count": null,
   "id": "fd8ae140-6c9c-4118-a8b1-c9dfe5940b6e",
   "metadata": {},
   "outputs": [],
   "source": []
  },
  {
   "cell_type": "code",
   "execution_count": 81,
   "id": "9505324f-c1b3-4a4e-82cd-525879ab8e79",
   "metadata": {},
   "outputs": [
    {
     "ename": "DuplicateDatabase",
     "evalue": "database \"dbz\" already exists\n",
     "output_type": "error",
     "traceback": [
      "\u001b[0;31m---------------------------------------------------------------------------\u001b[0m",
      "\u001b[0;31mDuplicateDatabase\u001b[0m                         Traceback (most recent call last)",
      "Cell \u001b[0;32mIn[81], line 2\u001b[0m\n\u001b[1;32m      1\u001b[0m \u001b[38;5;28;01mwith\u001b[39;00m pg_cursor(\u001b[38;5;124m'\u001b[39m\u001b[38;5;124mdbz\u001b[39m\u001b[38;5;124m'\u001b[39m) \u001b[38;5;28;01mas\u001b[39;00m cursor:\n\u001b[0;32m----> 2\u001b[0m     \u001b[43mcursor\u001b[49m\u001b[38;5;241;43m.\u001b[39;49m\u001b[43mexecute\u001b[49m\u001b[43m(\u001b[49m\u001b[38;5;124;43m'\u001b[39;49m\u001b[38;5;124;43mCREATE DATABASE dbz;\u001b[39;49m\u001b[38;5;124;43m'\u001b[39;49m\u001b[43m)\u001b[49m\n",
      "\u001b[0;31mDuplicateDatabase\u001b[0m: database \"dbz\" already exists\n"
     ]
    }
   ],
   "source": [
    "with pg_cursor('dbz') as cursor:\n",
    "    cursor.execute('CREATE DATABASE dbz;')"
   ]
  },
  {
   "cell_type": "code",
   "execution_count": null,
   "id": "72a1dd0e-ea61-4da8-8db0-29c9954ca084",
   "metadata": {},
   "outputs": [],
   "source": []
  },
  {
   "cell_type": "code",
   "execution_count": null,
   "id": "9ee79197-1e48-4220-8302-20abafda9f97",
   "metadata": {},
   "outputs": [],
   "source": []
  },
  {
   "cell_type": "code",
   "execution_count": null,
   "id": "2e64a6c3-6d60-4e5b-8ec5-da2e315ee5c4",
   "metadata": {},
   "outputs": [],
   "source": []
  },
  {
   "cell_type": "code",
   "execution_count": null,
   "id": "87ac53d3-5873-4a21-9b2c-44e53897ae70",
   "metadata": {},
   "outputs": [],
   "source": []
  },
  {
   "cell_type": "code",
   "execution_count": null,
   "id": "1bc92a95-220c-4236-b05b-57faddce2aa8",
   "metadata": {},
   "outputs": [],
   "source": []
  },
  {
   "cell_type": "code",
   "execution_count": null,
   "id": "97853eec-8842-4274-a130-4bb7873edbcc",
   "metadata": {},
   "outputs": [],
   "source": []
  },
  {
   "cell_type": "code",
   "execution_count": null,
   "id": "c52a73d0-dbf3-4e72-b61d-7479f3c77939",
   "metadata": {},
   "outputs": [],
   "source": []
  },
  {
   "cell_type": "code",
   "execution_count": null,
   "id": "9f429c50-7d8b-4634-83fd-92d818ac7c8b",
   "metadata": {},
   "outputs": [],
   "source": []
  },
  {
   "cell_type": "code",
   "execution_count": null,
   "id": "d76e579b-da9f-439e-ba54-ffa83a9350d5",
   "metadata": {},
   "outputs": [],
   "source": []
  },
  {
   "cell_type": "code",
   "execution_count": null,
   "id": "bba75fe3-b207-47c8-b216-824f4572d3e8",
   "metadata": {},
   "outputs": [],
   "source": []
  },
  {
   "cell_type": "code",
   "execution_count": null,
   "id": "1bb0dff1-a295-4e45-9f8c-f202fe4aca14",
   "metadata": {},
   "outputs": [],
   "source": []
  },
  {
   "cell_type": "code",
   "execution_count": null,
   "id": "44dc8189-3a48-4d8c-bd59-6e5827998e95",
   "metadata": {},
   "outputs": [],
   "source": []
  },
  {
   "cell_type": "code",
   "execution_count": null,
   "id": "65b77809-a24b-465c-9065-252c488e173e",
   "metadata": {},
   "outputs": [],
   "source": []
  },
  {
   "cell_type": "code",
   "execution_count": null,
   "id": "f180ec13-6605-48fe-ac97-f52808c9d7f3",
   "metadata": {},
   "outputs": [],
   "source": []
  },
  {
   "cell_type": "code",
   "execution_count": null,
   "id": "e7b9e830-6290-4aed-a1e6-828e0093282c",
   "metadata": {},
   "outputs": [],
   "source": []
  },
  {
   "cell_type": "code",
   "execution_count": null,
   "id": "427314ba-cdb9-41d5-8663-0026d2648c3d",
   "metadata": {},
   "outputs": [],
   "source": []
  },
  {
   "cell_type": "code",
   "execution_count": null,
   "id": "52122b55-f919-4336-a167-e6b4df57f4f4",
   "metadata": {},
   "outputs": [],
   "source": []
  },
  {
   "cell_type": "code",
   "execution_count": null,
   "id": "ebbbb0e8-0388-481a-a227-bcfbdb044dac",
   "metadata": {},
   "outputs": [],
   "source": []
  },
  {
   "cell_type": "code",
   "execution_count": null,
   "id": "72886caa-2913-4140-8dd3-938a77a137a4",
   "metadata": {},
   "outputs": [],
   "source": []
  },
  {
   "cell_type": "code",
   "execution_count": null,
   "id": "942718f8-984a-48d1-88ad-69b2da0bd304",
   "metadata": {},
   "outputs": [],
   "source": []
  }
 ],
 "metadata": {
  "kernelspec": {
   "display_name": "Python 3 (ipykernel)",
   "language": "python",
   "name": "python3"
  },
  "language_info": {
   "codemirror_mode": {
    "name": "ipython",
    "version": 3
   },
   "file_extension": ".py",
   "mimetype": "text/x-python",
   "name": "python",
   "nbconvert_exporter": "python",
   "pygments_lexer": "ipython3",
   "version": "3.10.12"
  }
 },
 "nbformat": 4,
 "nbformat_minor": 5
}
