{
 "cells": [
  {
   "cell_type": "code",
   "execution_count": 1,
   "id": "bdef775c-45e6-4338-ba86-ff061977b93b",
   "metadata": {},
   "outputs": [],
   "source": [
    "import requests, pandas, json, os, shutil\n",
    "from datetime import datetime\n",
    "import time"
   ]
  },
  {
   "cell_type": "code",
   "execution_count": 2,
   "id": "975333b9-a7de-439e-b21c-f83e04506875",
   "metadata": {},
   "outputs": [],
   "source": [
    "def get_names(port, allowed_prefix=''):\n",
    "    try:\n",
    "        result = requests.get(f'http://130.233.193.117:{port}/api/v1/label/__name__/values')\n",
    "        container = []\n",
    "\n",
    "        for metric in result.json()['data']:\n",
    "            if metric[0:len(allowed_prefix)] == allowed_prefix:\n",
    "                container.append(metric)\n",
    "\n",
    "        return container\n",
    "    \n",
    "    except:\n",
    "        raise(f'COULD NOT PING INSTANCES AT PORT {port}')"
   ]
  },
  {
   "cell_type": "code",
   "execution_count": 3,
   "id": "6f28a051-e1e7-4601-a7da-d2bec6b05dc2",
   "metadata": {},
   "outputs": [],
   "source": [
    "def json_save(file_path, data):\n",
    "    with open(file_path, 'w') as file:\n",
    "        json.dump(data, file, indent=4)"
   ]
  },
  {
   "cell_type": "code",
   "execution_count": 4,
   "id": "3fbd0de5-afb0-4949-9bfb-444b5a742706",
   "metadata": {},
   "outputs": [],
   "source": [
    "def fetch_metric(base_path, prometheus_port, query, start_time, end_time):\n",
    "\n",
    "    # CONVERT DATES TO UNIX TIMESTAMPS\n",
    "    date_format = '%Y-%m-%d %H:%M:%S'\n",
    "    formatted_start = str(int(datetime.strptime(start_time, date_format).timestamp()))\n",
    "    formatted_end = str(int(datetime.strptime(end_time, date_format).timestamp()))\n",
    "\n",
    "    # MAKE GET REQUEST\n",
    "    URL = f'http://130.233.193.117:{prometheus_port}/api/v1/query_range?query={query}&start={formatted_start}&end={formatted_end}&step=1s'\n",
    "    results = requests.get(URL).json()['data']['result']\n",
    "\n",
    "    # TIMESTAMP LABELS\n",
    "    # timestamps = pandas.date_range(start='2023-12-11 07:31:00', end='2023-12-11 07:32:00', freq='S')\n",
    "\n",
    "    # PREP THE DATAFRAME\n",
    "    cols = [x for x in range(len(results))]\n",
    "    rows = [x for x in range(int(formatted_start), int(formatted_end))]\n",
    "    dataframe = pandas.DataFrame(columns=cols, index=rows)\n",
    "\n",
    "    metrics_container = []\n",
    "\n",
    "    # CREATE SUB DIR\n",
    "    dir_path = f'{base_path}/{query}'\n",
    "    os.mkdir(dir_path)\n",
    "    \n",
    "    for nth, item in enumerate(results):\n",
    "\n",
    "        # ZIP TUPLE LIST INTO DICT\n",
    "        # EXTRACT ELEMENTS FROM KV LIST\n",
    "        timestamps = [x[0] for x in item['values']]\n",
    "        values = [x[1] for x in item['values']]\n",
    "        as_dict = dict(zip(timestamps, values))\n",
    "\n",
    "        # EVERYTHING PASSED, TO PUSH IN VALUES TO CONTAINER\n",
    "        metrics_container.append(item['metric'])\n",
    "        dataframe[nth] = as_dict\n",
    "\n",
    "    # SAVE THE METRICS OBJECTS AS JSON LIST\n",
    "    json_save(f'{dir_path}/metrics.json', metrics_container)\n",
    "\n",
    "    # SAVE THE DATAFRAME AS A CSV\n",
    "    dataframe.to_csv(f'{dir_path}/values.csv')"
   ]
  },
  {
   "cell_type": "code",
   "execution_count": 5,
   "id": "d9cedf67-ee59-429d-b58b-6e327f49c1a8",
   "metadata": {},
   "outputs": [],
   "source": [
    "def create_snapshot(start_time, end_time):\n",
    "\n",
    "    # GENERATE UNIQUE SNAPSHOT PATH\n",
    "    now = str(int(time.time()))\n",
    "    snapshot_path = f'snapshots/{now}'\n",
    "\n",
    "    # CREATE THE MAIN DIR\n",
    "    os.mkdir(snapshot_path)\n",
    "\n",
    "    # FETCH KUBERNETES DATA FROM SERVER 1\n",
    "    for query in get_names(9090):\n",
    "        fetch_metric(snapshot_path, 9090, query, start_time, end_time)\n",
    "\n",
    "    # FETCH KAFKA DATA FROM SERVER 2\n",
    "    for query in get_names(9091, 'kafka'):\n",
    "        fetch_metric(snapshot_path, 9091, query, start_time, end_time)"
   ]
  },
  {
   "cell_type": "markdown",
   "id": "5bcf9338-fa91-42d9-b3b5-93999dc1854a",
   "metadata": {},
   "source": [
    "##### CREATE THE SNAPSHOT"
   ]
  },
  {
   "cell_type": "code",
   "execution_count": 7,
   "id": "09b768ca-4998-459c-a3bc-2d673a2c7589",
   "metadata": {},
   "outputs": [],
   "source": [
    "create_snapshot('2023-12-12 10:36:15', '2023-12-12 11:06:15')"
   ]
  },
  {
   "cell_type": "code",
   "execution_count": null,
   "id": "0f117648-51a1-42ac-a9ba-fd4166492cf9",
   "metadata": {},
   "outputs": [],
   "source": []
  },
  {
   "cell_type": "code",
   "execution_count": null,
   "id": "ba9d1bf5",
   "metadata": {},
   "outputs": [],
   "source": []
  }
 ],
 "metadata": {
  "kernelspec": {
   "display_name": "Python 3 (ipykernel)",
   "language": "python",
   "name": "python3"
  },
  "language_info": {
   "codemirror_mode": {
    "name": "ipython",
    "version": 3
   },
   "file_extension": ".py",
   "mimetype": "text/x-python",
   "name": "python",
   "nbconvert_exporter": "python",
   "pygments_lexer": "ipython3",
   "version": "3.10.12"
  }
 },
 "nbformat": 4,
 "nbformat_minor": 5
}
