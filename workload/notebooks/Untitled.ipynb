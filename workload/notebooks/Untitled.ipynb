{
 "cells": [
  {
   "cell_type": "code",
   "execution_count": null,
   "id": "10928dcf",
   "metadata": {},
   "outputs": [],
   "source": [
    "import numpy as np\n",
    "import matplotlib.pyplot as plt"
   ]
  },
  {
   "cell_type": "code",
   "execution_count": null,
   "id": "9053be67",
   "metadata": {},
   "outputs": [],
   "source": []
  },
  {
   "cell_type": "code",
   "execution_count": null,
   "id": "7ed71079",
   "metadata": {},
   "outputs": [],
   "source": []
  },
  {
   "cell_type": "code",
   "execution_count": null,
   "id": "47223624",
   "metadata": {},
   "outputs": [],
   "source": [
    "breakpoints = [\n",
    "    (0, 20),\n",
    "    (8, 80),\n",
    "    (12, 50),\n",
    "    (17, 100),\n",
    "    (24, 20),\n",
    "]"
   ]
  },
  {
   "cell_type": "code",
   "execution_count": null,
   "id": "d7876aba",
   "metadata": {},
   "outputs": [],
   "source": []
  },
  {
   "cell_type": "code",
   "execution_count": null,
   "id": "b5246f3c",
   "metadata": {},
   "outputs": [],
   "source": [
    "def create_cycle(bpts):\n",
    "    container = []\n",
    "    \n",
    "    for current in range(len(bpts) - 1):\n",
    "        next = current+1\n",
    "        \n",
    "        first = bpts[current]\n",
    "        second = bpts[next]\n",
    "        \n",
    "        points = np.linspace(first[1], second[1], abs(first[0] - second[0]) + 1)\n",
    "        container.extend(points[:-1])\n",
    "        \n",
    "        #if (next+1) == len(bpts):\n",
    "        #    container.append(points[-1])\n",
    "    \n",
    "    #container[-1] = bpts[-1][1]\n",
    "    \n",
    "    labels = [x for x in range(len(container))]\n",
    "    \n",
    "    return labels, container"
   ]
  },
  {
   "cell_type": "code",
   "execution_count": null,
   "id": "b10ae53c",
   "metadata": {},
   "outputs": [],
   "source": []
  },
  {
   "cell_type": "code",
   "execution_count": null,
   "id": "a160f7ff",
   "metadata": {},
   "outputs": [],
   "source": [
    "len(dataset)"
   ]
  },
  {
   "cell_type": "code",
   "execution_count": null,
   "id": "a50b44a5",
   "metadata": {},
   "outputs": [],
   "source": []
  },
  {
   "cell_type": "code",
   "execution_count": null,
   "id": "6fc7298a",
   "metadata": {},
   "outputs": [],
   "source": []
  },
  {
   "cell_type": "code",
   "execution_count": null,
   "id": "8686ca32",
   "metadata": {
    "scrolled": false
   },
   "outputs": [],
   "source": []
  },
  {
   "cell_type": "code",
   "execution_count": null,
   "id": "43d9973c",
   "metadata": {},
   "outputs": [],
   "source": []
  },
  {
   "cell_type": "code",
   "execution_count": null,
   "id": "d10342c7",
   "metadata": {},
   "outputs": [],
   "source": []
  },
  {
   "cell_type": "code",
   "execution_count": null,
   "id": "92dc4c56",
   "metadata": {},
   "outputs": [],
   "source": [
    "labels, dataset = create_cycle(breakpoints)\n",
    "\n",
    "# Fit a polynomial of degree 3 (you can change the degree for different levels of smoothing)\n",
    "coefficients = np.polyfit(labels, dataset, 8)\n",
    "polynomial = np.poly1d(coefficients)\n",
    "\n",
    "# Generate more points for a smoother curve\n",
    "x_smooth = np.linspace(0, len(labels), 200)  # 100 points between 0 and 1 for a smooth curve\n",
    "y_smooth = polynomial(x_smooth)\n",
    "\n",
    "# Plot the smooth curve\n",
    "plt.plot(x_smooth, y_smooth, label='Smooth Curve')"
   ]
  },
  {
   "cell_type": "code",
   "execution_count": null,
   "id": "4746f3f3",
   "metadata": {},
   "outputs": [],
   "source": [
    "y_smooth"
   ]
  },
  {
   "cell_type": "code",
   "execution_count": null,
   "id": "a85d0aaa",
   "metadata": {},
   "outputs": [],
   "source": [
    "foo = y_smooth.tolist()\n",
    "\n",
    "for current in range(len(foo)-1):\n",
    "    next = current+1\n",
    "    \n",
    "    delta = abs(foo[current] - foo[next])\n",
    "    print(delta)"
   ]
  },
  {
   "cell_type": "code",
   "execution_count": null,
   "id": "4bd20d98",
   "metadata": {},
   "outputs": [],
   "source": []
  },
  {
   "cell_type": "code",
   "execution_count": null,
   "id": "e40910bc",
   "metadata": {},
   "outputs": [],
   "source": []
  },
  {
   "cell_type": "code",
   "execution_count": null,
   "id": "a9bb152e",
   "metadata": {},
   "outputs": [],
   "source": [
    "plt.plot(labels, dataset)"
   ]
  },
  {
   "cell_type": "code",
   "execution_count": null,
   "id": "a167f0a8",
   "metadata": {},
   "outputs": [],
   "source": []
  },
  {
   "cell_type": "code",
   "execution_count": null,
   "id": "74bb71c3",
   "metadata": {},
   "outputs": [],
   "source": [
    "import math\n",
    "import random\n",
    "import time"
   ]
  },
  {
   "cell_type": "code",
   "execution_count": null,
   "id": "4eacd85a",
   "metadata": {},
   "outputs": [],
   "source": [
    "def intensive_computation():\n",
    "    result = 0\n",
    "    for _ in range(10**6):\n",
    "        result += math.sqrt(random.random())\n",
    "    return result\n"
   ]
  },
  {
   "cell_type": "code",
   "execution_count": null,
   "id": "d9edd6f4",
   "metadata": {},
   "outputs": [],
   "source": [
    "while True:\n",
    "    interval = 0.2 + 0.1 * math.sin(time.time() * 2 * math.pi / 60)  # Smooth fluctuation using sine function\n",
    "    intensive_computation()\n",
    "    time.sleep(interval)"
   ]
  },
  {
   "cell_type": "code",
   "execution_count": null,
   "id": "519281bb",
   "metadata": {},
   "outputs": [],
   "source": []
  },
  {
   "cell_type": "code",
   "execution_count": null,
   "id": "092cc231",
   "metadata": {},
   "outputs": [],
   "source": [
    "for _ in range(10):\n",
    "    interval = 0.2 + 0.1 * math.sin(time.time() * 2 * math.pi / 60)  # Smooth fluctuation using sine function\n",
    "    print(interval)\n",
    "    time.sleep(interval)"
   ]
  },
  {
   "cell_type": "code",
   "execution_count": null,
   "id": "a4ee43a2",
   "metadata": {},
   "outputs": [],
   "source": [
    "time.time()"
   ]
  },
  {
   "cell_type": "code",
   "execution_count": null,
   "id": "2a4567c5",
   "metadata": {},
   "outputs": [],
   "source": []
  },
  {
   "cell_type": "code",
   "execution_count": null,
   "id": "73d42cb7",
   "metadata": {},
   "outputs": [],
   "source": [
    "math.sin(time.time() * 2 * math.pi / 60)"
   ]
  },
  {
   "cell_type": "code",
   "execution_count": null,
   "id": "63d1920d",
   "metadata": {},
   "outputs": [],
   "source": [
    "sin_data = []\n",
    "\n",
    "n = 500\n",
    "frequency = 0.5\n",
    "oscillation = 4\n",
    "buffer = 0.3\n",
    "\n",
    "for x in range(n):\n",
    "    value = (0.2 * math.sin((time.time() + x) * frequency * math.pi / 60) + buffer) * oscillation\n",
    "    sin_data.append(value)\n",
    "    \n",
    "plt.plot([x for x in range(len(sin_data))], sin_data)"
   ]
  },
  {
   "cell_type": "code",
   "execution_count": null,
   "id": "547c1394",
   "metadata": {},
   "outputs": [],
   "source": []
  },
  {
   "cell_type": "code",
   "execution_count": null,
   "id": "7fc9da92",
   "metadata": {},
   "outputs": [],
   "source": [
    "sin_data"
   ]
  },
  {
   "cell_type": "code",
   "execution_count": null,
   "id": "f9c7991c",
   "metadata": {},
   "outputs": [],
   "source": []
  },
  {
   "cell_type": "code",
   "execution_count": null,
   "id": "ee7a4ae7",
   "metadata": {},
   "outputs": [],
   "source": []
  },
  {
   "cell_type": "code",
   "execution_count": null,
   "id": "4ff125a7",
   "metadata": {},
   "outputs": [],
   "source": [
    "def generate_cooldown(bonus=0):\n",
    "\n",
    "    # STATIC VARS\n",
    "    frequency = 0.5\n",
    "    oscillation = 4\n",
    "    buffer = 0.3\n",
    "\n",
    "    # FETCH SIN-WAVE COOLDOWN\n",
    "    return (0.2 * math.sin((time.time() + bonus) * frequency * math.pi / 60) + buffer) * oscillation"
   ]
  },
  {
   "cell_type": "code",
   "execution_count": null,
   "id": "5665bea2",
   "metadata": {},
   "outputs": [],
   "source": [
    "generate_cooldown()"
   ]
  },
  {
   "cell_type": "code",
   "execution_count": null,
   "id": "26a1e223",
   "metadata": {},
   "outputs": [],
   "source": [
    "def cooldown_sim(n=500):\n",
    "    sin_data = []\n",
    "\n",
    "    for b in range(n):\n",
    "        value = generate_cooldown(b)\n",
    "        sin_data.append(value)\n",
    "        \n",
    "    print('N:\\t', len(sin_data))\n",
    "    print('MIN:\\t', min(sin_data))\n",
    "    print('MAX:\\t', max(sin_data))\n",
    "    \n",
    "    plt.plot([x for x in range(len(sin_data))], sin_data)"
   ]
  },
  {
   "cell_type": "code",
   "execution_count": null,
   "id": "316c050c",
   "metadata": {},
   "outputs": [],
   "source": [
    "cooldown_sim()"
   ]
  },
  {
   "cell_type": "code",
   "execution_count": null,
   "id": "6810fd03",
   "metadata": {},
   "outputs": [],
   "source": [
    "import time"
   ]
  },
  {
   "cell_type": "code",
   "execution_count": null,
   "id": "7f15b1a7",
   "metadata": {},
   "outputs": [],
   "source": [
    "last = time.time()\n",
    "\n",
    "for number in range(1, 16):\n",
    "    symbol = ''\n",
    "    \n",
    "    if 0 <= number <= 5:\n",
    "        time.sleep(2)\n",
    "        symbol = '---'\n",
    "        \n",
    "    if 6 <= number <= 10:\n",
    "        time.sleep(1)\n",
    "        symbol = '--'\n",
    "        \n",
    "    if 11 <= number <= 15:\n",
    "        time.sleep(0.5)\n",
    "        symbol = '-'\n",
    "        \n",
    "    ts = time.time()\n",
    "    print(symbol, '\\t', ts-last)\n",
    "    last = ts"
   ]
  },
  {
   "cell_type": "code",
   "execution_count": null,
   "id": "b26e3e26",
   "metadata": {},
   "outputs": [],
   "source": []
  },
  {
   "cell_type": "code",
   "execution_count": null,
   "id": "eb05d1ab",
   "metadata": {},
   "outputs": [],
   "source": []
  },
  {
   "cell_type": "code",
   "execution_count": null,
   "id": "2bcbc315",
   "metadata": {},
   "outputs": [],
   "source": []
  },
  {
   "cell_type": "code",
   "execution_count": null,
   "id": "75ea2eca",
   "metadata": {},
   "outputs": [],
   "source": [
    "def generate_sine_wave(amp_min, amp_max):\n",
    "\n",
    "    # Generate timestamps from 0 to 1 with a step of 0.01\n",
    "    labels = np.arange(0, 2, 0.01)\n",
    "\n",
    "    # Generate a sinusoidal wave between 0.2 and 3\n",
    "    frequency = 1 # Adjust the frequency of the wave\n",
    "    sine_wave = ((amp_max - amp_min) / 2) * np.sin(2 * np.pi * frequency * labels) + ((amp_max + amp_min) / 2)\n",
    "\n",
    "    print(sum(sine_wave))\n",
    "    \n",
    "    # Plot the sinusoidal wave\n",
    "    plt.plot(labels, sine_wave, label=\"Sinusoidal Wave\")"
   ]
  },
  {
   "cell_type": "code",
   "execution_count": null,
   "id": "487a57fc",
   "metadata": {},
   "outputs": [],
   "source": [
    "generate_sine_wave(0.2, 3)"
   ]
  },
  {
   "cell_type": "code",
   "execution_count": null,
   "id": "761e1aab",
   "metadata": {},
   "outputs": [],
   "source": []
  },
  {
   "cell_type": "code",
   "execution_count": null,
   "id": "ec6be53b",
   "metadata": {},
   "outputs": [],
   "source": []
  },
  {
   "cell_type": "code",
   "execution_count": 1,
   "id": "c2cb3041",
   "metadata": {},
   "outputs": [],
   "source": [
    "from confluent_kafka import Producer\n",
    "import json, time"
   ]
  },
  {
   "cell_type": "code",
   "execution_count": 2,
   "id": "62380932",
   "metadata": {},
   "outputs": [],
   "source": [
    "class create_producer:\n",
    "\n",
    "    # ON LOAD, CREATE KAFKA PRODUCER\n",
    "    def __init__(self):\n",
    "        self.kafka_client = Producer({\n",
    "            'bootstrap.servers': '192.168.1.231:9092',\n",
    "        })\n",
    "\n",
    "    # ON CONSUMER CALLBACK, DO..\n",
    "    def ack_callback(self, error, message):\n",
    "        if error:\n",
    "            print('ACK ERROR', error)\n",
    "        else:\n",
    "            print('MESSAGE PUSHED')\n",
    "\n",
    "    # PUSH MESSAGE TO A KAFK TOPIC\n",
    "    def push_msg(self, topic_name, bytes_data):\n",
    "\n",
    "        # PUSH MESSAGE TO KAFKA TOPIC\n",
    "        self.kafka_client.produce(\n",
    "            topic_name, \n",
    "            value=bytes_data,\n",
    "            on_delivery=self.ack_callback,\n",
    "        )\n",
    "\n",
    "        # ASYNCRONOUSLY AWAIT CONSUMER ACK BEFORE SENDING NEXT MSG\n",
    "        self.kafka_client.poll(1)\n",
    "        #self.kafka_client.flush()"
   ]
  },
  {
   "cell_type": "code",
   "execution_count": 3,
   "id": "d86587af",
   "metadata": {},
   "outputs": [],
   "source": [
    "# CREATE NEW KAFKA PRODUCER & SPECIFY TARGET TOPIC\n",
    "kafka_producer = create_producer()\n",
    "topic_name = 'yolo_input'\n",
    "\n",
    "# CUSTOM DATA => BYTES SERIALIZED -- INVERSE OF THE CONSUMERS DESERIALIZER\n",
    "def custom_serializer(data):\n",
    "    return json.dumps(data).encode('UTF-8')"
   ]
  },
  {
   "cell_type": "code",
   "execution_count": 4,
   "id": "bbe8c8f9",
   "metadata": {},
   "outputs": [
    {
     "name": "stdout",
     "output_type": "stream",
     "text": [
      "NTH\n",
      "NTH\n",
      "NTH\n",
      "NTH\n"
     ]
    },
    {
     "ename": "KeyboardInterrupt",
     "evalue": "",
     "output_type": "error",
     "traceback": [
      "\u001b[0;31m---------------------------------------------------------------------------\u001b[0m",
      "\u001b[0;31mKeyboardInterrupt\u001b[0m                         Traceback (most recent call last)",
      "Cell \u001b[0;32mIn[4], line 11\u001b[0m\n\u001b[1;32m      6\u001b[0m serialized_data \u001b[38;5;241m=\u001b[39m custom_serializer({\n\u001b[1;32m      7\u001b[0m     \u001b[38;5;124m'\u001b[39m\u001b[38;5;124mfoo\u001b[39m\u001b[38;5;124m'\u001b[39m: nth\n\u001b[1;32m      8\u001b[0m })\n\u001b[1;32m     10\u001b[0m \u001b[38;5;66;03m# PUSH MESSAGE TO TOPIC\u001b[39;00m\n\u001b[0;32m---> 11\u001b[0m \u001b[43mkafka_producer\u001b[49m\u001b[38;5;241;43m.\u001b[39;49m\u001b[43mpush_msg\u001b[49m\u001b[43m(\u001b[49m\u001b[43mtopic_name\u001b[49m\u001b[43m,\u001b[49m\u001b[43m \u001b[49m\u001b[43mserialized_data\u001b[49m\u001b[43m)\u001b[49m\n\u001b[1;32m     13\u001b[0m time\u001b[38;5;241m.\u001b[39msleep(\u001b[38;5;241m1\u001b[39m)\n",
      "Cell \u001b[0;32mIn[2], line 27\u001b[0m, in \u001b[0;36mcreate_producer.push_msg\u001b[0;34m(self, topic_name, bytes_data)\u001b[0m\n\u001b[1;32m     20\u001b[0m \u001b[38;5;28mself\u001b[39m\u001b[38;5;241m.\u001b[39mkafka_client\u001b[38;5;241m.\u001b[39mproduce(\n\u001b[1;32m     21\u001b[0m     topic_name, \n\u001b[1;32m     22\u001b[0m     value\u001b[38;5;241m=\u001b[39mbytes_data,\n\u001b[1;32m     23\u001b[0m     on_delivery\u001b[38;5;241m=\u001b[39m\u001b[38;5;28mself\u001b[39m\u001b[38;5;241m.\u001b[39mack_callback,\n\u001b[1;32m     24\u001b[0m )\n\u001b[1;32m     26\u001b[0m \u001b[38;5;66;03m# ASYNCRONOUSLY AWAIT CONSUMER ACK BEFORE SENDING NEXT MSG\u001b[39;00m\n\u001b[0;32m---> 27\u001b[0m \u001b[38;5;28;43mself\u001b[39;49m\u001b[38;5;241;43m.\u001b[39;49m\u001b[43mkafka_client\u001b[49m\u001b[38;5;241;43m.\u001b[39;49m\u001b[43mpoll\u001b[49m\u001b[43m(\u001b[49m\u001b[38;5;241;43m1\u001b[39;49m\u001b[43m)\u001b[49m\n",
      "\u001b[0;31mKeyboardInterrupt\u001b[0m: "
     ]
    }
   ],
   "source": [
    "for nth in range(500):\n",
    "\n",
    "    print('NTH')\n",
    "\n",
    "    # SERIALIZE MSG TO BYTES -- DOESNT NEED TO BE JSON\n",
    "    serialized_data = custom_serializer({\n",
    "        'foo': nth\n",
    "    })\n",
    "\n",
    "    # PUSH MESSAGE TO TOPIC\n",
    "    kafka_producer.push_msg(topic_name, serialized_data)\n",
    "\n",
    "    time.sleep(1)"
   ]
  },
  {
   "cell_type": "code",
   "execution_count": null,
   "id": "175ba053",
   "metadata": {},
   "outputs": [],
   "source": []
  },
  {
   "cell_type": "code",
   "execution_count": null,
   "id": "ef20b7d1",
   "metadata": {},
   "outputs": [],
   "source": []
  },
  {
   "cell_type": "code",
   "execution_count": null,
   "id": "f173a4c8",
   "metadata": {},
   "outputs": [],
   "source": []
  },
  {
   "cell_type": "code",
   "execution_count": null,
   "id": "3110c541",
   "metadata": {},
   "outputs": [],
   "source": []
  },
  {
   "cell_type": "code",
   "execution_count": null,
   "id": "6b0fef16",
   "metadata": {},
   "outputs": [],
   "source": []
  },
  {
   "cell_type": "code",
   "execution_count": null,
   "id": "b29d0017",
   "metadata": {},
   "outputs": [],
   "source": []
  }
 ],
 "metadata": {
  "kernelspec": {
   "display_name": "Python 3 (ipykernel)",
   "language": "python",
   "name": "python3"
  },
  "language_info": {
   "codemirror_mode": {
    "name": "ipython",
    "version": 3
   },
   "file_extension": ".py",
   "mimetype": "text/x-python",
   "name": "python",
   "nbconvert_exporter": "python",
   "pygments_lexer": "ipython3",
   "version": "3.10.12"
  }
 },
 "nbformat": 4,
 "nbformat_minor": 5
}
